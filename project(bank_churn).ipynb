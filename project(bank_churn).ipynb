{
 "cells": [
  {
   "cell_type": "markdown",
   "metadata": {},
   "source": [
    "# Банки — Анализ оттока клиентов"
   ]
  },
  {
   "cell_type": "markdown",
   "metadata": {},
   "source": [
    "# Задача\n",
    "\n",
    "Проанализировать клиентов регионального банка и выделить портрет клиентов, которые склонны уходить из банка.\n",
    "\n",
    "- Провевести исследовательский анализ данных,\n",
    "- Выделить портреты клиентов, которые склонны уходить из банка,\n",
    "- Сформулировать и проверить статистические гипотезы."
   ]
  },
  {
   "cell_type": "markdown",
   "metadata": {},
   "source": [
    "# Описание датасета\n",
    "\n",
    "- userid — идентификатор пользователя,\n",
    "- score — баллы кредитного скоринга,\n",
    "- City — город,\n",
    "- Gender — пол,\n",
    "- Age — возраст,\n",
    "- Objects — количество объектов в собственности,\n",
    "- Balance — баланс на счёте,\n",
    "- Products — количество продуктов, которыми пользуется клиент,\n",
    "- CreditCard — есть ли кредитная карта,\n",
    "- Loyalty — активный клиент,\n",
    "- estimated_salary — заработная плата клиента,\n",
    "- Churn — ушёл или нет."
   ]
  },
  {
   "cell_type": "markdown",
   "metadata": {},
   "source": [
    "**Дашборд (набор 1) :** https://public.tableau.com/app/profile/vlad7274/viz/_16499550781100/Dashboard1"
   ]
  },
  {
   "cell_type": "markdown",
   "metadata": {},
   "source": [
    "**Презентация:** https://www.dropbox.com/s/25o514i1mnsum48/%D0%B0%D0%BD%D0%B0%D0%BB%D0%B8%D0%B7%20%D0%BE%D1%82%D1%82%D0%BE%D0%BA%D0%B0%20%D0%BA%D0%BB%D0%B8%D0%B5%D0%BD%D1%82%D0%BE%D0%B2%20%D0%B8%D0%B7%20%D0%B1%D0%B0%D0%BD%D0%BA%D0%B0.pdf?dl=0"
   ]
  },
  {
   "cell_type": "markdown",
   "metadata": {},
   "source": [
    "# Оглавление"
   ]
  },
  {
   "cell_type": "markdown",
   "metadata": {},
   "source": [
    "[**1 Знакомство с данными**](#part1)\n",
    "- 1.1 импорт библиотек\n",
    "- 1.2 чтение данных и загрузка в датафрейм\n",
    "- 1.3 выводим общие сведения о данных\n",
    "\n",
    "[**2 Предобработка данных**](#part2)\n",
    "- 2.1 проверка и замена типов данных\n",
    "- 2.2 проверка на дубликаты\n",
    "- 2.3 обработка пропусков\n",
    "- 2.4 проверка на аномалии\n",
    "- 2.5 категоризация данных\n",
    "\n",
    "[**3 Исследовательский анализ данных**](#part3)\n",
    "- 3.1 анализ средних значений признаков\n",
    "- 3.2 анализ средних значений признаков тех , кто ушел в отток и тех, кто остался\n",
    "- 3.3 анализ распределения признаков    тех , кто ушёл в отток и тех, кто остался\n",
    "- 3.4 анализ матрицы корреляций\n",
    "\n",
    "[**4 Выделение портрет клиентов, которые склонны уходить из банка**](#part4)\n",
    "\n",
    "[**5 Проверка гипотез**](#part5)\n",
    "- 5.1 Проверка гипотезы о различии дохода между теми клиентами, которые ушли и теми, которые остались\n",
    "- 5.2 Проверка гипотеза о различии возраста между теми клиентами, которые ушли и теми, которые остались  \n",
    "\n",
    "[**6 Выводы и рекомендации**](#part6)\n",
    "\n"
   ]
  },
  {
   "cell_type": "markdown",
   "metadata": {},
   "source": [
    "<a id=\"part1\"></a>\n",
    "\n",
    "## Знакомство с данными"
   ]
  },
  {
   "cell_type": "markdown",
   "metadata": {},
   "source": [
    "### импорт библиотек"
   ]
  },
  {
   "cell_type": "code",
   "execution_count": 12,
   "metadata": {},
   "outputs": [],
   "source": [
    "import pandas as pd\n",
    "import numpy as np\n",
    "\n",
    "import matplotlib.pyplot as plt\n",
    "import matplotlib\n",
    "import seaborn as sns\n",
    "import matplotlib.pyplot as plt\n",
    "\n",
    "import scipy.stats as stats\n",
    "from scipy import stats as st"
   ]
  },
  {
   "cell_type": "markdown",
   "metadata": {},
   "source": [
    "### чтение данных и загрузка в датафрейм"
   ]
  },
  {
   "cell_type": "code",
   "execution_count": 13,
   "metadata": {},
   "outputs": [
    {
     "data": {
      "text/html": [
       "<div>\n",
       "<style scoped>\n",
       "    .dataframe tbody tr th:only-of-type {\n",
       "        vertical-align: middle;\n",
       "    }\n",
       "\n",
       "    .dataframe tbody tr th {\n",
       "        vertical-align: top;\n",
       "    }\n",
       "\n",
       "    .dataframe thead th {\n",
       "        text-align: right;\n",
       "    }\n",
       "</style>\n",
       "<table border=\"1\" class=\"dataframe\">\n",
       "  <thead>\n",
       "    <tr style=\"text-align: right;\">\n",
       "      <th></th>\n",
       "      <th>userid</th>\n",
       "      <th>score</th>\n",
       "      <th>City</th>\n",
       "      <th>Gender</th>\n",
       "      <th>Age</th>\n",
       "      <th>Objects</th>\n",
       "      <th>Balance</th>\n",
       "      <th>Products</th>\n",
       "      <th>CreditCard</th>\n",
       "      <th>Loyalty</th>\n",
       "      <th>estimated_salary</th>\n",
       "      <th>Churn</th>\n",
       "    </tr>\n",
       "  </thead>\n",
       "  <tbody>\n",
       "    <tr>\n",
       "      <th>0</th>\n",
       "      <td>15677338</td>\n",
       "      <td>619</td>\n",
       "      <td>Ярославль</td>\n",
       "      <td>Ж</td>\n",
       "      <td>42</td>\n",
       "      <td>2</td>\n",
       "      <td>NaN</td>\n",
       "      <td>1</td>\n",
       "      <td>1</td>\n",
       "      <td>1</td>\n",
       "      <td>101348.88</td>\n",
       "      <td>1</td>\n",
       "    </tr>\n",
       "    <tr>\n",
       "      <th>1</th>\n",
       "      <td>15690047</td>\n",
       "      <td>608</td>\n",
       "      <td>Рыбинск</td>\n",
       "      <td>Ж</td>\n",
       "      <td>41</td>\n",
       "      <td>1</td>\n",
       "      <td>83807.86</td>\n",
       "      <td>1</td>\n",
       "      <td>0</td>\n",
       "      <td>1</td>\n",
       "      <td>112542.58</td>\n",
       "      <td>0</td>\n",
       "    </tr>\n",
       "    <tr>\n",
       "      <th>2</th>\n",
       "      <td>15662040</td>\n",
       "      <td>502</td>\n",
       "      <td>Ярославль</td>\n",
       "      <td>Ж</td>\n",
       "      <td>42</td>\n",
       "      <td>8</td>\n",
       "      <td>159660.80</td>\n",
       "      <td>3</td>\n",
       "      <td>1</td>\n",
       "      <td>0</td>\n",
       "      <td>113931.57</td>\n",
       "      <td>1</td>\n",
       "    </tr>\n",
       "    <tr>\n",
       "      <th>3</th>\n",
       "      <td>15744090</td>\n",
       "      <td>699</td>\n",
       "      <td>Ярославль</td>\n",
       "      <td>Ж</td>\n",
       "      <td>39</td>\n",
       "      <td>1</td>\n",
       "      <td>NaN</td>\n",
       "      <td>2</td>\n",
       "      <td>0</td>\n",
       "      <td>0</td>\n",
       "      <td>93826.63</td>\n",
       "      <td>0</td>\n",
       "    </tr>\n",
       "    <tr>\n",
       "      <th>4</th>\n",
       "      <td>15780624</td>\n",
       "      <td>850</td>\n",
       "      <td>Рыбинск</td>\n",
       "      <td>Ж</td>\n",
       "      <td>43</td>\n",
       "      <td>2</td>\n",
       "      <td>125510.82</td>\n",
       "      <td>1</td>\n",
       "      <td>1</td>\n",
       "      <td>1</td>\n",
       "      <td>79084.10</td>\n",
       "      <td>0</td>\n",
       "    </tr>\n",
       "    <tr>\n",
       "      <th>5</th>\n",
       "      <td>15616748</td>\n",
       "      <td>645</td>\n",
       "      <td>Рыбинск</td>\n",
       "      <td>М</td>\n",
       "      <td>44</td>\n",
       "      <td>8</td>\n",
       "      <td>113755.78</td>\n",
       "      <td>2</td>\n",
       "      <td>1</td>\n",
       "      <td>0</td>\n",
       "      <td>149756.71</td>\n",
       "      <td>1</td>\n",
       "    </tr>\n",
       "    <tr>\n",
       "      <th>6</th>\n",
       "      <td>15635267</td>\n",
       "      <td>822</td>\n",
       "      <td>Ярославль</td>\n",
       "      <td>М</td>\n",
       "      <td>50</td>\n",
       "      <td>7</td>\n",
       "      <td>NaN</td>\n",
       "      <td>2</td>\n",
       "      <td>1</td>\n",
       "      <td>1</td>\n",
       "      <td>10062.80</td>\n",
       "      <td>0</td>\n",
       "    </tr>\n",
       "    <tr>\n",
       "      <th>7</th>\n",
       "      <td>15698884</td>\n",
       "      <td>376</td>\n",
       "      <td>Ростов Великий</td>\n",
       "      <td>Ж</td>\n",
       "      <td>29</td>\n",
       "      <td>4</td>\n",
       "      <td>115046.74</td>\n",
       "      <td>4</td>\n",
       "      <td>1</td>\n",
       "      <td>0</td>\n",
       "      <td>119346.88</td>\n",
       "      <td>1</td>\n",
       "    </tr>\n",
       "    <tr>\n",
       "      <th>8</th>\n",
       "      <td>15835101</td>\n",
       "      <td>501</td>\n",
       "      <td>Ярославль</td>\n",
       "      <td>М</td>\n",
       "      <td>44</td>\n",
       "      <td>4</td>\n",
       "      <td>142051.07</td>\n",
       "      <td>2</td>\n",
       "      <td>0</td>\n",
       "      <td>1</td>\n",
       "      <td>74940.50</td>\n",
       "      <td>0</td>\n",
       "    </tr>\n",
       "    <tr>\n",
       "      <th>9</th>\n",
       "      <td>15635125</td>\n",
       "      <td>684</td>\n",
       "      <td>Ярославль</td>\n",
       "      <td>М</td>\n",
       "      <td>27</td>\n",
       "      <td>2</td>\n",
       "      <td>134603.88</td>\n",
       "      <td>1</td>\n",
       "      <td>1</td>\n",
       "      <td>1</td>\n",
       "      <td>71725.73</td>\n",
       "      <td>0</td>\n",
       "    </tr>\n",
       "  </tbody>\n",
       "</table>\n",
       "</div>"
      ],
      "text/plain": [
       "     userid  score            City Gender  Age  Objects   Balance  Products  \\\n",
       "0  15677338    619       Ярославль      Ж   42        2       NaN         1   \n",
       "1  15690047    608         Рыбинск      Ж   41        1  83807.86         1   \n",
       "2  15662040    502       Ярославль      Ж   42        8 159660.80         3   \n",
       "3  15744090    699       Ярославль      Ж   39        1       NaN         2   \n",
       "4  15780624    850         Рыбинск      Ж   43        2 125510.82         1   \n",
       "5  15616748    645         Рыбинск      М   44        8 113755.78         2   \n",
       "6  15635267    822       Ярославль      М   50        7       NaN         2   \n",
       "7  15698884    376  Ростов Великий      Ж   29        4 115046.74         4   \n",
       "8  15835101    501       Ярославль      М   44        4 142051.07         2   \n",
       "9  15635125    684       Ярославль      М   27        2 134603.88         1   \n",
       "\n",
       "   CreditCard  Loyalty  estimated_salary  Churn  \n",
       "0           1        1         101348.88      1  \n",
       "1           0        1         112542.58      0  \n",
       "2           1        0         113931.57      1  \n",
       "3           0        0          93826.63      0  \n",
       "4           1        1          79084.10      0  \n",
       "5           1        0         149756.71      1  \n",
       "6           1        1          10062.80      0  \n",
       "7           1        0         119346.88      1  \n",
       "8           0        1          74940.50      0  \n",
       "9           1        1          71725.73      0  "
      ]
     },
     "execution_count": 13,
     "metadata": {},
     "output_type": "execute_result"
    }
   ],
   "source": [
    "df=pd.read_csv('https://code.s3.yandex.net/datasets/bank_dataset.csv')\n",
    "pd.options.display.float_format = '{:.2f}'.format\n",
    "df.head(10)"
   ]
  },
  {
   "cell_type": "markdown",
   "metadata": {},
   "source": [
    "###  выводим общие сведения о данных"
   ]
  },
  {
   "cell_type": "code",
   "execution_count": 14,
   "metadata": {},
   "outputs": [
    {
     "name": "stdout",
     "output_type": "stream",
     "text": [
      "<class 'pandas.core.frame.DataFrame'>\n",
      "RangeIndex: 10000 entries, 0 to 9999\n",
      "Data columns (total 12 columns):\n",
      " #   Column            Non-Null Count  Dtype  \n",
      "---  ------            --------------  -----  \n",
      " 0   userid            10000 non-null  int64  \n",
      " 1   score             10000 non-null  int64  \n",
      " 2   City              10000 non-null  object \n",
      " 3   Gender            10000 non-null  object \n",
      " 4   Age               10000 non-null  int64  \n",
      " 5   Objects           10000 non-null  int64  \n",
      " 6   Balance           6383 non-null   float64\n",
      " 7   Products          10000 non-null  int64  \n",
      " 8   CreditCard        10000 non-null  int64  \n",
      " 9   Loyalty           10000 non-null  int64  \n",
      " 10  estimated_salary  10000 non-null  float64\n",
      " 11  Churn             10000 non-null  int64  \n",
      "dtypes: float64(2), int64(8), object(2)\n",
      "memory usage: 937.6+ KB\n"
     ]
    }
   ],
   "source": [
    "df.info()"
   ]
  },
  {
   "cell_type": "code",
   "execution_count": 15,
   "metadata": {},
   "outputs": [
    {
     "data": {
      "text/html": [
       "<div>\n",
       "<style scoped>\n",
       "    .dataframe tbody tr th:only-of-type {\n",
       "        vertical-align: middle;\n",
       "    }\n",
       "\n",
       "    .dataframe tbody tr th {\n",
       "        vertical-align: top;\n",
       "    }\n",
       "\n",
       "    .dataframe thead th {\n",
       "        text-align: right;\n",
       "    }\n",
       "</style>\n",
       "<table border=\"1\" class=\"dataframe\">\n",
       "  <thead>\n",
       "    <tr style=\"text-align: right;\">\n",
       "      <th></th>\n",
       "      <th>userid</th>\n",
       "      <th>score</th>\n",
       "      <th>Age</th>\n",
       "      <th>Objects</th>\n",
       "      <th>Balance</th>\n",
       "      <th>Products</th>\n",
       "      <th>CreditCard</th>\n",
       "      <th>Loyalty</th>\n",
       "      <th>estimated_salary</th>\n",
       "      <th>Churn</th>\n",
       "    </tr>\n",
       "  </thead>\n",
       "  <tbody>\n",
       "    <tr>\n",
       "      <th>count</th>\n",
       "      <td>10000.00</td>\n",
       "      <td>10000.00</td>\n",
       "      <td>10000.00</td>\n",
       "      <td>10000.00</td>\n",
       "      <td>6383.00</td>\n",
       "      <td>10000.00</td>\n",
       "      <td>10000.00</td>\n",
       "      <td>10000.00</td>\n",
       "      <td>10000.00</td>\n",
       "      <td>10000.00</td>\n",
       "    </tr>\n",
       "    <tr>\n",
       "      <th>mean</th>\n",
       "      <td>15733676.57</td>\n",
       "      <td>650.53</td>\n",
       "      <td>38.92</td>\n",
       "      <td>5.01</td>\n",
       "      <td>119827.49</td>\n",
       "      <td>1.53</td>\n",
       "      <td>0.71</td>\n",
       "      <td>0.52</td>\n",
       "      <td>100090.24</td>\n",
       "      <td>0.20</td>\n",
       "    </tr>\n",
       "    <tr>\n",
       "      <th>std</th>\n",
       "      <td>71936.19</td>\n",
       "      <td>96.65</td>\n",
       "      <td>10.49</td>\n",
       "      <td>2.89</td>\n",
       "      <td>30095.06</td>\n",
       "      <td>0.58</td>\n",
       "      <td>0.46</td>\n",
       "      <td>0.50</td>\n",
       "      <td>57510.49</td>\n",
       "      <td>0.40</td>\n",
       "    </tr>\n",
       "    <tr>\n",
       "      <th>min</th>\n",
       "      <td>15608437.00</td>\n",
       "      <td>350.00</td>\n",
       "      <td>18.00</td>\n",
       "      <td>0.00</td>\n",
       "      <td>3768.69</td>\n",
       "      <td>1.00</td>\n",
       "      <td>0.00</td>\n",
       "      <td>0.00</td>\n",
       "      <td>11.58</td>\n",
       "      <td>0.00</td>\n",
       "    </tr>\n",
       "    <tr>\n",
       "      <th>25%</th>\n",
       "      <td>15671264.25</td>\n",
       "      <td>584.00</td>\n",
       "      <td>32.00</td>\n",
       "      <td>3.00</td>\n",
       "      <td>100181.98</td>\n",
       "      <td>1.00</td>\n",
       "      <td>0.00</td>\n",
       "      <td>0.00</td>\n",
       "      <td>51002.11</td>\n",
       "      <td>0.00</td>\n",
       "    </tr>\n",
       "    <tr>\n",
       "      <th>50%</th>\n",
       "      <td>15733474.00</td>\n",
       "      <td>652.00</td>\n",
       "      <td>37.00</td>\n",
       "      <td>5.00</td>\n",
       "      <td>119839.69</td>\n",
       "      <td>1.00</td>\n",
       "      <td>1.00</td>\n",
       "      <td>1.00</td>\n",
       "      <td>100193.91</td>\n",
       "      <td>0.00</td>\n",
       "    </tr>\n",
       "    <tr>\n",
       "      <th>75%</th>\n",
       "      <td>15795969.75</td>\n",
       "      <td>718.00</td>\n",
       "      <td>44.00</td>\n",
       "      <td>7.00</td>\n",
       "      <td>139512.29</td>\n",
       "      <td>2.00</td>\n",
       "      <td>1.00</td>\n",
       "      <td>1.00</td>\n",
       "      <td>149388.25</td>\n",
       "      <td>0.00</td>\n",
       "    </tr>\n",
       "    <tr>\n",
       "      <th>max</th>\n",
       "      <td>15858426.00</td>\n",
       "      <td>850.00</td>\n",
       "      <td>92.00</td>\n",
       "      <td>10.00</td>\n",
       "      <td>250898.09</td>\n",
       "      <td>4.00</td>\n",
       "      <td>1.00</td>\n",
       "      <td>1.00</td>\n",
       "      <td>199992.48</td>\n",
       "      <td>1.00</td>\n",
       "    </tr>\n",
       "  </tbody>\n",
       "</table>\n",
       "</div>"
      ],
      "text/plain": [
       "           userid    score      Age  Objects   Balance  Products  CreditCard  \\\n",
       "count    10000.00 10000.00 10000.00 10000.00   6383.00  10000.00    10000.00   \n",
       "mean  15733676.57   650.53    38.92     5.01 119827.49      1.53        0.71   \n",
       "std      71936.19    96.65    10.49     2.89  30095.06      0.58        0.46   \n",
       "min   15608437.00   350.00    18.00     0.00   3768.69      1.00        0.00   \n",
       "25%   15671264.25   584.00    32.00     3.00 100181.98      1.00        0.00   \n",
       "50%   15733474.00   652.00    37.00     5.00 119839.69      1.00        1.00   \n",
       "75%   15795969.75   718.00    44.00     7.00 139512.29      2.00        1.00   \n",
       "max   15858426.00   850.00    92.00    10.00 250898.09      4.00        1.00   \n",
       "\n",
       "       Loyalty  estimated_salary    Churn  \n",
       "count 10000.00          10000.00 10000.00  \n",
       "mean      0.52         100090.24     0.20  \n",
       "std       0.50          57510.49     0.40  \n",
       "min       0.00             11.58     0.00  \n",
       "25%       0.00          51002.11     0.00  \n",
       "50%       1.00         100193.91     0.00  \n",
       "75%       1.00         149388.25     0.00  \n",
       "max       1.00         199992.48     1.00  "
      ]
     },
     "execution_count": 15,
     "metadata": {},
     "output_type": "execute_result"
    }
   ],
   "source": [
    "df.describe()"
   ]
  },
  {
   "cell_type": "markdown",
   "metadata": {},
   "source": [
    "**Вывод**\n",
    "- С типами данных все в порядке\n",
    "- Нужно поменять регистр названия столбцов\n",
    "- Пропуски только в столбце Balance\n",
    "- в целом все в порядке"
   ]
  },
  {
   "cell_type": "markdown",
   "metadata": {},
   "source": [
    "<a id=\"part2\"></a>\n",
    "\n",
    "## Предобработка данных"
   ]
  },
  {
   "cell_type": "markdown",
   "metadata": {},
   "source": [
    "### проверка и замена типов данных"
   ]
  },
  {
   "cell_type": "code",
   "execution_count": 16,
   "metadata": {},
   "outputs": [
    {
     "name": "stdout",
     "output_type": "stream",
     "text": [
      "<class 'pandas.core.frame.DataFrame'>\n",
      "RangeIndex: 10000 entries, 0 to 9999\n",
      "Data columns (total 12 columns):\n",
      " #   Column            Non-Null Count  Dtype  \n",
      "---  ------            --------------  -----  \n",
      " 0   userid            10000 non-null  int64  \n",
      " 1   score             10000 non-null  int64  \n",
      " 2   City              10000 non-null  object \n",
      " 3   Gender            10000 non-null  object \n",
      " 4   Age               10000 non-null  int64  \n",
      " 5   Objects           10000 non-null  int64  \n",
      " 6   Balance           6383 non-null   float64\n",
      " 7   Products          10000 non-null  int64  \n",
      " 8   CreditCard        10000 non-null  int64  \n",
      " 9   Loyalty           10000 non-null  int64  \n",
      " 10  estimated_salary  10000 non-null  float64\n",
      " 11  Churn             10000 non-null  int64  \n",
      "dtypes: float64(2), int64(8), object(2)\n",
      "memory usage: 937.6+ KB\n"
     ]
    }
   ],
   "source": [
    "df.info()"
   ]
  },
  {
   "cell_type": "markdown",
   "metadata": {},
   "source": [
    "с типами данных все в порядке, ничего менять не нужно"
   ]
  },
  {
   "cell_type": "code",
   "execution_count": 17,
   "metadata": {},
   "outputs": [
    {
     "data": {
      "text/html": [
       "<div>\n",
       "<style scoped>\n",
       "    .dataframe tbody tr th:only-of-type {\n",
       "        vertical-align: middle;\n",
       "    }\n",
       "\n",
       "    .dataframe tbody tr th {\n",
       "        vertical-align: top;\n",
       "    }\n",
       "\n",
       "    .dataframe thead th {\n",
       "        text-align: right;\n",
       "    }\n",
       "</style>\n",
       "<table border=\"1\" class=\"dataframe\">\n",
       "  <thead>\n",
       "    <tr style=\"text-align: right;\">\n",
       "      <th></th>\n",
       "      <th>userid</th>\n",
       "      <th>score</th>\n",
       "      <th>city</th>\n",
       "      <th>gender</th>\n",
       "      <th>age</th>\n",
       "      <th>objects</th>\n",
       "      <th>balance</th>\n",
       "      <th>products</th>\n",
       "      <th>creditcard</th>\n",
       "      <th>loyalty</th>\n",
       "      <th>estimated_salary</th>\n",
       "      <th>churn</th>\n",
       "    </tr>\n",
       "  </thead>\n",
       "  <tbody>\n",
       "    <tr>\n",
       "      <th>0</th>\n",
       "      <td>15677338</td>\n",
       "      <td>619</td>\n",
       "      <td>Ярославль</td>\n",
       "      <td>Ж</td>\n",
       "      <td>42</td>\n",
       "      <td>2</td>\n",
       "      <td>NaN</td>\n",
       "      <td>1</td>\n",
       "      <td>1</td>\n",
       "      <td>1</td>\n",
       "      <td>101348.88</td>\n",
       "      <td>1</td>\n",
       "    </tr>\n",
       "    <tr>\n",
       "      <th>1</th>\n",
       "      <td>15690047</td>\n",
       "      <td>608</td>\n",
       "      <td>Рыбинск</td>\n",
       "      <td>Ж</td>\n",
       "      <td>41</td>\n",
       "      <td>1</td>\n",
       "      <td>83807.86</td>\n",
       "      <td>1</td>\n",
       "      <td>0</td>\n",
       "      <td>1</td>\n",
       "      <td>112542.58</td>\n",
       "      <td>0</td>\n",
       "    </tr>\n",
       "    <tr>\n",
       "      <th>2</th>\n",
       "      <td>15662040</td>\n",
       "      <td>502</td>\n",
       "      <td>Ярославль</td>\n",
       "      <td>Ж</td>\n",
       "      <td>42</td>\n",
       "      <td>8</td>\n",
       "      <td>159660.80</td>\n",
       "      <td>3</td>\n",
       "      <td>1</td>\n",
       "      <td>0</td>\n",
       "      <td>113931.57</td>\n",
       "      <td>1</td>\n",
       "    </tr>\n",
       "    <tr>\n",
       "      <th>3</th>\n",
       "      <td>15744090</td>\n",
       "      <td>699</td>\n",
       "      <td>Ярославль</td>\n",
       "      <td>Ж</td>\n",
       "      <td>39</td>\n",
       "      <td>1</td>\n",
       "      <td>NaN</td>\n",
       "      <td>2</td>\n",
       "      <td>0</td>\n",
       "      <td>0</td>\n",
       "      <td>93826.63</td>\n",
       "      <td>0</td>\n",
       "    </tr>\n",
       "    <tr>\n",
       "      <th>4</th>\n",
       "      <td>15780624</td>\n",
       "      <td>850</td>\n",
       "      <td>Рыбинск</td>\n",
       "      <td>Ж</td>\n",
       "      <td>43</td>\n",
       "      <td>2</td>\n",
       "      <td>125510.82</td>\n",
       "      <td>1</td>\n",
       "      <td>1</td>\n",
       "      <td>1</td>\n",
       "      <td>79084.10</td>\n",
       "      <td>0</td>\n",
       "    </tr>\n",
       "  </tbody>\n",
       "</table>\n",
       "</div>"
      ],
      "text/plain": [
       "     userid  score       city gender  age  objects   balance  products  \\\n",
       "0  15677338    619  Ярославль      Ж   42        2       NaN         1   \n",
       "1  15690047    608    Рыбинск      Ж   41        1  83807.86         1   \n",
       "2  15662040    502  Ярославль      Ж   42        8 159660.80         3   \n",
       "3  15744090    699  Ярославль      Ж   39        1       NaN         2   \n",
       "4  15780624    850    Рыбинск      Ж   43        2 125510.82         1   \n",
       "\n",
       "   creditcard  loyalty  estimated_salary  churn  \n",
       "0           1        1         101348.88      1  \n",
       "1           0        1         112542.58      0  \n",
       "2           1        0         113931.57      1  \n",
       "3           0        0          93826.63      0  \n",
       "4           1        1          79084.10      0  "
      ]
     },
     "execution_count": 17,
     "metadata": {},
     "output_type": "execute_result"
    }
   ],
   "source": [
    "#приведем названия столбцов к нижнему регистру\n",
    "df.columns = df.columns.str.lower()\n",
    "df.head()"
   ]
  },
  {
   "cell_type": "markdown",
   "metadata": {},
   "source": [
    "### проверка на дубликаты"
   ]
  },
  {
   "cell_type": "code",
   "execution_count": 18,
   "metadata": {},
   "outputs": [
    {
     "data": {
      "text/plain": [
       "0"
      ]
     },
     "execution_count": 18,
     "metadata": {},
     "output_type": "execute_result"
    }
   ],
   "source": [
    "df.duplicated().sum()"
   ]
  },
  {
   "cell_type": "markdown",
   "metadata": {},
   "source": [
    "Дубликатов нет"
   ]
  },
  {
   "cell_type": "markdown",
   "metadata": {},
   "source": [
    "###  обработка пропусков"
   ]
  },
  {
   "cell_type": "code",
   "execution_count": 19,
   "metadata": {},
   "outputs": [
    {
     "data": {
      "text/plain": [
       "3768.69"
      ]
     },
     "execution_count": 19,
     "metadata": {},
     "output_type": "execute_result"
    }
   ],
   "source": [
    "df['balance'].min()"
   ]
  },
  {
   "cell_type": "markdown",
   "metadata": {},
   "source": [
    "Как видим, минимальное значение баланса не ноль, может быть как раз с этим и связана проблема с пропусками, при выгрузке данных у клиента на счету не было денег и из-за каких-то технических проблем нули отображаются пропусками. В любом случае, пропуски нужно заменить на нули, чтобы было удобней работать с данными"
   ]
  },
  {
   "cell_type": "code",
   "execution_count": 20,
   "metadata": {},
   "outputs": [
    {
     "data": {
      "text/plain": [
       "userid              0\n",
       "score               0\n",
       "city                0\n",
       "gender              0\n",
       "age                 0\n",
       "objects             0\n",
       "balance             0\n",
       "products            0\n",
       "creditcard          0\n",
       "loyalty             0\n",
       "estimated_salary    0\n",
       "churn               0\n",
       "dtype: int64"
      ]
     },
     "execution_count": 20,
     "metadata": {},
     "output_type": "execute_result"
    }
   ],
   "source": [
    "df= df.fillna(0)\n",
    "df.isnull().sum()"
   ]
  },
  {
   "cell_type": "markdown",
   "metadata": {},
   "source": [
    "### проверка на аномалии"
   ]
  },
  {
   "cell_type": "code",
   "execution_count": 21,
   "metadata": {},
   "outputs": [
    {
     "data": {
      "text/html": [
       "<div>\n",
       "<style scoped>\n",
       "    .dataframe tbody tr th:only-of-type {\n",
       "        vertical-align: middle;\n",
       "    }\n",
       "\n",
       "    .dataframe tbody tr th {\n",
       "        vertical-align: top;\n",
       "    }\n",
       "\n",
       "    .dataframe thead th {\n",
       "        text-align: right;\n",
       "    }\n",
       "</style>\n",
       "<table border=\"1\" class=\"dataframe\">\n",
       "  <thead>\n",
       "    <tr style=\"text-align: right;\">\n",
       "      <th></th>\n",
       "      <th>userid</th>\n",
       "      <th>score</th>\n",
       "      <th>age</th>\n",
       "      <th>objects</th>\n",
       "      <th>balance</th>\n",
       "      <th>products</th>\n",
       "      <th>creditcard</th>\n",
       "      <th>loyalty</th>\n",
       "      <th>estimated_salary</th>\n",
       "      <th>churn</th>\n",
       "    </tr>\n",
       "  </thead>\n",
       "  <tbody>\n",
       "    <tr>\n",
       "      <th>count</th>\n",
       "      <td>10000.00</td>\n",
       "      <td>10000.00</td>\n",
       "      <td>10000.00</td>\n",
       "      <td>10000.00</td>\n",
       "      <td>10000.00</td>\n",
       "      <td>10000.00</td>\n",
       "      <td>10000.00</td>\n",
       "      <td>10000.00</td>\n",
       "      <td>10000.00</td>\n",
       "      <td>10000.00</td>\n",
       "    </tr>\n",
       "    <tr>\n",
       "      <th>mean</th>\n",
       "      <td>15733676.57</td>\n",
       "      <td>650.53</td>\n",
       "      <td>38.92</td>\n",
       "      <td>5.01</td>\n",
       "      <td>76485.89</td>\n",
       "      <td>1.53</td>\n",
       "      <td>0.71</td>\n",
       "      <td>0.52</td>\n",
       "      <td>100090.24</td>\n",
       "      <td>0.20</td>\n",
       "    </tr>\n",
       "    <tr>\n",
       "      <th>std</th>\n",
       "      <td>71936.19</td>\n",
       "      <td>96.65</td>\n",
       "      <td>10.49</td>\n",
       "      <td>2.89</td>\n",
       "      <td>62397.41</td>\n",
       "      <td>0.58</td>\n",
       "      <td>0.46</td>\n",
       "      <td>0.50</td>\n",
       "      <td>57510.49</td>\n",
       "      <td>0.40</td>\n",
       "    </tr>\n",
       "    <tr>\n",
       "      <th>min</th>\n",
       "      <td>15608437.00</td>\n",
       "      <td>350.00</td>\n",
       "      <td>18.00</td>\n",
       "      <td>0.00</td>\n",
       "      <td>0.00</td>\n",
       "      <td>1.00</td>\n",
       "      <td>0.00</td>\n",
       "      <td>0.00</td>\n",
       "      <td>11.58</td>\n",
       "      <td>0.00</td>\n",
       "    </tr>\n",
       "    <tr>\n",
       "      <th>25%</th>\n",
       "      <td>15671264.25</td>\n",
       "      <td>584.00</td>\n",
       "      <td>32.00</td>\n",
       "      <td>3.00</td>\n",
       "      <td>0.00</td>\n",
       "      <td>1.00</td>\n",
       "      <td>0.00</td>\n",
       "      <td>0.00</td>\n",
       "      <td>51002.11</td>\n",
       "      <td>0.00</td>\n",
       "    </tr>\n",
       "    <tr>\n",
       "      <th>50%</th>\n",
       "      <td>15733474.00</td>\n",
       "      <td>652.00</td>\n",
       "      <td>37.00</td>\n",
       "      <td>5.00</td>\n",
       "      <td>97198.54</td>\n",
       "      <td>1.00</td>\n",
       "      <td>1.00</td>\n",
       "      <td>1.00</td>\n",
       "      <td>100193.91</td>\n",
       "      <td>0.00</td>\n",
       "    </tr>\n",
       "    <tr>\n",
       "      <th>75%</th>\n",
       "      <td>15795969.75</td>\n",
       "      <td>718.00</td>\n",
       "      <td>44.00</td>\n",
       "      <td>7.00</td>\n",
       "      <td>127644.24</td>\n",
       "      <td>2.00</td>\n",
       "      <td>1.00</td>\n",
       "      <td>1.00</td>\n",
       "      <td>149388.25</td>\n",
       "      <td>0.00</td>\n",
       "    </tr>\n",
       "    <tr>\n",
       "      <th>max</th>\n",
       "      <td>15858426.00</td>\n",
       "      <td>850.00</td>\n",
       "      <td>92.00</td>\n",
       "      <td>10.00</td>\n",
       "      <td>250898.09</td>\n",
       "      <td>4.00</td>\n",
       "      <td>1.00</td>\n",
       "      <td>1.00</td>\n",
       "      <td>199992.48</td>\n",
       "      <td>1.00</td>\n",
       "    </tr>\n",
       "  </tbody>\n",
       "</table>\n",
       "</div>"
      ],
      "text/plain": [
       "           userid    score      age  objects   balance  products  creditcard  \\\n",
       "count    10000.00 10000.00 10000.00 10000.00  10000.00  10000.00    10000.00   \n",
       "mean  15733676.57   650.53    38.92     5.01  76485.89      1.53        0.71   \n",
       "std      71936.19    96.65    10.49     2.89  62397.41      0.58        0.46   \n",
       "min   15608437.00   350.00    18.00     0.00      0.00      1.00        0.00   \n",
       "25%   15671264.25   584.00    32.00     3.00      0.00      1.00        0.00   \n",
       "50%   15733474.00   652.00    37.00     5.00  97198.54      1.00        1.00   \n",
       "75%   15795969.75   718.00    44.00     7.00 127644.24      2.00        1.00   \n",
       "max   15858426.00   850.00    92.00    10.00 250898.09      4.00        1.00   \n",
       "\n",
       "       loyalty  estimated_salary    churn  \n",
       "count 10000.00          10000.00 10000.00  \n",
       "mean      0.52         100090.24     0.20  \n",
       "std       0.50          57510.49     0.40  \n",
       "min       0.00             11.58     0.00  \n",
       "25%       0.00          51002.11     0.00  \n",
       "50%       1.00         100193.91     0.00  \n",
       "75%       1.00         149388.25     0.00  \n",
       "max       1.00         199992.48     1.00  "
      ]
     },
     "execution_count": 21,
     "metadata": {},
     "output_type": "execute_result"
    }
   ],
   "source": [
    "df.describe()"
   ]
  },
  {
   "cell_type": "markdown",
   "metadata": {},
   "source": [
    "- в score аномалий нет\n",
    "- в age аномалий нет\n",
    "- в objects аномалий нет\n",
    "- в balance аномалий нет\n",
    "- в products аномалий нет\n",
    "- а вот к estimated_salary есть вопросы\n"
   ]
  },
  {
   "cell_type": "markdown",
   "metadata": {},
   "source": [
    "Минимальная зп уж слишком мала, посмотрим на значения ниже 1%"
   ]
  },
  {
   "cell_type": "code",
   "execution_count": 22,
   "metadata": {},
   "outputs": [
    {
     "name": "stdout",
     "output_type": "stream",
     "text": [
      "[1842.8253 9851.8185]\n"
     ]
    }
   ],
   "source": [
    "print(np.percentile(df['estimated_salary'], [1,5]))"
   ]
  },
  {
   "cell_type": "markdown",
   "metadata": {},
   "source": [
    "возможно это люди, которые получают какие-то выплаты от государства или домохозяйки или кто-то указывает свои доходы неправильно"
   ]
  },
  {
   "cell_type": "code",
   "execution_count": 23,
   "metadata": {},
   "outputs": [],
   "source": [
    "low_sal = df[df['estimated_salary'] < 1842]\n"
   ]
  },
  {
   "cell_type": "code",
   "execution_count": 24,
   "metadata": {
    "scrolled": true
   },
   "outputs": [
    {
     "data": {
      "text/html": [
       "<div>\n",
       "<style scoped>\n",
       "    .dataframe tbody tr th:only-of-type {\n",
       "        vertical-align: middle;\n",
       "    }\n",
       "\n",
       "    .dataframe tbody tr th {\n",
       "        vertical-align: top;\n",
       "    }\n",
       "\n",
       "    .dataframe thead th {\n",
       "        text-align: right;\n",
       "    }\n",
       "</style>\n",
       "<table border=\"1\" class=\"dataframe\">\n",
       "  <thead>\n",
       "    <tr style=\"text-align: right;\">\n",
       "      <th></th>\n",
       "      <th>userid</th>\n",
       "      <th>score</th>\n",
       "      <th>age</th>\n",
       "      <th>objects</th>\n",
       "      <th>balance</th>\n",
       "      <th>products</th>\n",
       "      <th>creditcard</th>\n",
       "      <th>loyalty</th>\n",
       "      <th>estimated_salary</th>\n",
       "      <th>churn</th>\n",
       "    </tr>\n",
       "  </thead>\n",
       "  <tbody>\n",
       "    <tr>\n",
       "      <th>count</th>\n",
       "      <td>100.00</td>\n",
       "      <td>100.00</td>\n",
       "      <td>100.00</td>\n",
       "      <td>100.00</td>\n",
       "      <td>100.00</td>\n",
       "      <td>100.00</td>\n",
       "      <td>100.00</td>\n",
       "      <td>100.00</td>\n",
       "      <td>100.00</td>\n",
       "      <td>100.00</td>\n",
       "    </tr>\n",
       "    <tr>\n",
       "      <th>mean</th>\n",
       "      <td>15725304.24</td>\n",
       "      <td>659.18</td>\n",
       "      <td>39.47</td>\n",
       "      <td>5.23</td>\n",
       "      <td>63197.24</td>\n",
       "      <td>1.54</td>\n",
       "      <td>0.72</td>\n",
       "      <td>0.50</td>\n",
       "      <td>913.65</td>\n",
       "      <td>0.19</td>\n",
       "    </tr>\n",
       "    <tr>\n",
       "      <th>std</th>\n",
       "      <td>71834.00</td>\n",
       "      <td>95.30</td>\n",
       "      <td>10.51</td>\n",
       "      <td>2.95</td>\n",
       "      <td>61485.43</td>\n",
       "      <td>0.50</td>\n",
       "      <td>0.45</td>\n",
       "      <td>0.50</td>\n",
       "      <td>496.72</td>\n",
       "      <td>0.39</td>\n",
       "    </tr>\n",
       "    <tr>\n",
       "      <th>min</th>\n",
       "      <td>15608947.00</td>\n",
       "      <td>416.00</td>\n",
       "      <td>21.00</td>\n",
       "      <td>0.00</td>\n",
       "      <td>0.00</td>\n",
       "      <td>1.00</td>\n",
       "      <td>0.00</td>\n",
       "      <td>0.00</td>\n",
       "      <td>11.58</td>\n",
       "      <td>0.00</td>\n",
       "    </tr>\n",
       "    <tr>\n",
       "      <th>25%</th>\n",
       "      <td>15666536.25</td>\n",
       "      <td>594.50</td>\n",
       "      <td>33.00</td>\n",
       "      <td>3.00</td>\n",
       "      <td>0.00</td>\n",
       "      <td>1.00</td>\n",
       "      <td>0.00</td>\n",
       "      <td>0.00</td>\n",
       "      <td>542.14</td>\n",
       "      <td>0.00</td>\n",
       "    </tr>\n",
       "    <tr>\n",
       "      <th>50%</th>\n",
       "      <td>15720868.00</td>\n",
       "      <td>661.00</td>\n",
       "      <td>37.00</td>\n",
       "      <td>5.00</td>\n",
       "      <td>82264.65</td>\n",
       "      <td>2.00</td>\n",
       "      <td>1.00</td>\n",
       "      <td>0.50</td>\n",
       "      <td>870.13</td>\n",
       "      <td>0.00</td>\n",
       "    </tr>\n",
       "    <tr>\n",
       "      <th>75%</th>\n",
       "      <td>15794321.75</td>\n",
       "      <td>714.25</td>\n",
       "      <td>43.25</td>\n",
       "      <td>8.00</td>\n",
       "      <td>114612.12</td>\n",
       "      <td>2.00</td>\n",
       "      <td>1.00</td>\n",
       "      <td>1.00</td>\n",
       "      <td>1289.30</td>\n",
       "      <td>0.00</td>\n",
       "    </tr>\n",
       "    <tr>\n",
       "      <th>max</th>\n",
       "      <td>15855568.00</td>\n",
       "      <td>850.00</td>\n",
       "      <td>75.00</td>\n",
       "      <td>10.00</td>\n",
       "      <td>204510.94</td>\n",
       "      <td>2.00</td>\n",
       "      <td>1.00</td>\n",
       "      <td>1.00</td>\n",
       "      <td>1801.77</td>\n",
       "      <td>1.00</td>\n",
       "    </tr>\n",
       "  </tbody>\n",
       "</table>\n",
       "</div>"
      ],
      "text/plain": [
       "           userid  score    age  objects   balance  products  creditcard  \\\n",
       "count      100.00 100.00 100.00   100.00    100.00    100.00      100.00   \n",
       "mean  15725304.24 659.18  39.47     5.23  63197.24      1.54        0.72   \n",
       "std      71834.00  95.30  10.51     2.95  61485.43      0.50        0.45   \n",
       "min   15608947.00 416.00  21.00     0.00      0.00      1.00        0.00   \n",
       "25%   15666536.25 594.50  33.00     3.00      0.00      1.00        0.00   \n",
       "50%   15720868.00 661.00  37.00     5.00  82264.65      2.00        1.00   \n",
       "75%   15794321.75 714.25  43.25     8.00 114612.12      2.00        1.00   \n",
       "max   15855568.00 850.00  75.00    10.00 204510.94      2.00        1.00   \n",
       "\n",
       "       loyalty  estimated_salary  churn  \n",
       "count   100.00            100.00 100.00  \n",
       "mean      0.50            913.65   0.19  \n",
       "std       0.50            496.72   0.39  \n",
       "min       0.00             11.58   0.00  \n",
       "25%       0.00            542.14   0.00  \n",
       "50%       0.50            870.13   0.00  \n",
       "75%       1.00           1289.30   0.00  \n",
       "max       1.00           1801.77   1.00  "
      ]
     },
     "execution_count": 24,
     "metadata": {},
     "output_type": "execute_result"
    }
   ],
   "source": [
    "low_sal.describe()"
   ]
  },
  {
   "cell_type": "markdown",
   "metadata": {},
   "source": [
    "интересно получается, что у людей с супер низким доход в среденем во владении есть 5 объектов и на балансе 60 000 руб\n",
    "нужно будет сообщить об этом коллегам и детальнее с этим разобраться, возможен опять таки какой-то технический сбой. \n",
    "Ну а в маштабах данной выборки 100 строк это незначительно, поэтому оставим все как есть"
   ]
  },
  {
   "cell_type": "markdown",
   "metadata": {},
   "source": [
    "### категоризация данных"
   ]
  },
  {
   "cell_type": "code",
   "execution_count": 25,
   "metadata": {},
   "outputs": [
    {
     "data": {
      "text/html": [
       "<div>\n",
       "<style scoped>\n",
       "    .dataframe tbody tr th:only-of-type {\n",
       "        vertical-align: middle;\n",
       "    }\n",
       "\n",
       "    .dataframe tbody tr th {\n",
       "        vertical-align: top;\n",
       "    }\n",
       "\n",
       "    .dataframe thead th {\n",
       "        text-align: right;\n",
       "    }\n",
       "</style>\n",
       "<table border=\"1\" class=\"dataframe\">\n",
       "  <thead>\n",
       "    <tr style=\"text-align: right;\">\n",
       "      <th></th>\n",
       "      <th>userid</th>\n",
       "      <th>score</th>\n",
       "      <th>age</th>\n",
       "      <th>objects</th>\n",
       "      <th>balance</th>\n",
       "      <th>products</th>\n",
       "      <th>creditcard</th>\n",
       "      <th>loyalty</th>\n",
       "      <th>estimated_salary</th>\n",
       "      <th>churn</th>\n",
       "    </tr>\n",
       "  </thead>\n",
       "  <tbody>\n",
       "    <tr>\n",
       "      <th>count</th>\n",
       "      <td>10000.00</td>\n",
       "      <td>10000.00</td>\n",
       "      <td>10000.00</td>\n",
       "      <td>10000.00</td>\n",
       "      <td>10000.00</td>\n",
       "      <td>10000.00</td>\n",
       "      <td>10000.00</td>\n",
       "      <td>10000.00</td>\n",
       "      <td>10000.00</td>\n",
       "      <td>10000.00</td>\n",
       "    </tr>\n",
       "    <tr>\n",
       "      <th>mean</th>\n",
       "      <td>15733676.57</td>\n",
       "      <td>650.53</td>\n",
       "      <td>38.92</td>\n",
       "      <td>5.01</td>\n",
       "      <td>76485.89</td>\n",
       "      <td>1.53</td>\n",
       "      <td>0.71</td>\n",
       "      <td>0.52</td>\n",
       "      <td>100090.24</td>\n",
       "      <td>0.20</td>\n",
       "    </tr>\n",
       "    <tr>\n",
       "      <th>std</th>\n",
       "      <td>71936.19</td>\n",
       "      <td>96.65</td>\n",
       "      <td>10.49</td>\n",
       "      <td>2.89</td>\n",
       "      <td>62397.41</td>\n",
       "      <td>0.58</td>\n",
       "      <td>0.46</td>\n",
       "      <td>0.50</td>\n",
       "      <td>57510.49</td>\n",
       "      <td>0.40</td>\n",
       "    </tr>\n",
       "    <tr>\n",
       "      <th>min</th>\n",
       "      <td>15608437.00</td>\n",
       "      <td>350.00</td>\n",
       "      <td>18.00</td>\n",
       "      <td>0.00</td>\n",
       "      <td>0.00</td>\n",
       "      <td>1.00</td>\n",
       "      <td>0.00</td>\n",
       "      <td>0.00</td>\n",
       "      <td>11.58</td>\n",
       "      <td>0.00</td>\n",
       "    </tr>\n",
       "    <tr>\n",
       "      <th>25%</th>\n",
       "      <td>15671264.25</td>\n",
       "      <td>584.00</td>\n",
       "      <td>32.00</td>\n",
       "      <td>3.00</td>\n",
       "      <td>0.00</td>\n",
       "      <td>1.00</td>\n",
       "      <td>0.00</td>\n",
       "      <td>0.00</td>\n",
       "      <td>51002.11</td>\n",
       "      <td>0.00</td>\n",
       "    </tr>\n",
       "    <tr>\n",
       "      <th>50%</th>\n",
       "      <td>15733474.00</td>\n",
       "      <td>652.00</td>\n",
       "      <td>37.00</td>\n",
       "      <td>5.00</td>\n",
       "      <td>97198.54</td>\n",
       "      <td>1.00</td>\n",
       "      <td>1.00</td>\n",
       "      <td>1.00</td>\n",
       "      <td>100193.91</td>\n",
       "      <td>0.00</td>\n",
       "    </tr>\n",
       "    <tr>\n",
       "      <th>75%</th>\n",
       "      <td>15795969.75</td>\n",
       "      <td>718.00</td>\n",
       "      <td>44.00</td>\n",
       "      <td>7.00</td>\n",
       "      <td>127644.24</td>\n",
       "      <td>2.00</td>\n",
       "      <td>1.00</td>\n",
       "      <td>1.00</td>\n",
       "      <td>149388.25</td>\n",
       "      <td>0.00</td>\n",
       "    </tr>\n",
       "    <tr>\n",
       "      <th>max</th>\n",
       "      <td>15858426.00</td>\n",
       "      <td>850.00</td>\n",
       "      <td>92.00</td>\n",
       "      <td>10.00</td>\n",
       "      <td>250898.09</td>\n",
       "      <td>4.00</td>\n",
       "      <td>1.00</td>\n",
       "      <td>1.00</td>\n",
       "      <td>199992.48</td>\n",
       "      <td>1.00</td>\n",
       "    </tr>\n",
       "  </tbody>\n",
       "</table>\n",
       "</div>"
      ],
      "text/plain": [
       "           userid    score      age  objects   balance  products  creditcard  \\\n",
       "count    10000.00 10000.00 10000.00 10000.00  10000.00  10000.00    10000.00   \n",
       "mean  15733676.57   650.53    38.92     5.01  76485.89      1.53        0.71   \n",
       "std      71936.19    96.65    10.49     2.89  62397.41      0.58        0.46   \n",
       "min   15608437.00   350.00    18.00     0.00      0.00      1.00        0.00   \n",
       "25%   15671264.25   584.00    32.00     3.00      0.00      1.00        0.00   \n",
       "50%   15733474.00   652.00    37.00     5.00  97198.54      1.00        1.00   \n",
       "75%   15795969.75   718.00    44.00     7.00 127644.24      2.00        1.00   \n",
       "max   15858426.00   850.00    92.00    10.00 250898.09      4.00        1.00   \n",
       "\n",
       "       loyalty  estimated_salary    churn  \n",
       "count 10000.00          10000.00 10000.00  \n",
       "mean      0.52         100090.24     0.20  \n",
       "std       0.50          57510.49     0.40  \n",
       "min       0.00             11.58     0.00  \n",
       "25%       0.00          51002.11     0.00  \n",
       "50%       1.00         100193.91     0.00  \n",
       "75%       1.00         149388.25     0.00  \n",
       "max       1.00         199992.48     1.00  "
      ]
     },
     "execution_count": 25,
     "metadata": {},
     "output_type": "execute_result"
    }
   ],
   "source": [
    "df.describe()"
   ]
  },
  {
   "cell_type": "code",
   "execution_count": 26,
   "metadata": {},
   "outputs": [
    {
     "data": {
      "text/html": [
       "<div>\n",
       "<style scoped>\n",
       "    .dataframe tbody tr th:only-of-type {\n",
       "        vertical-align: middle;\n",
       "    }\n",
       "\n",
       "    .dataframe tbody tr th {\n",
       "        vertical-align: top;\n",
       "    }\n",
       "\n",
       "    .dataframe thead th {\n",
       "        text-align: right;\n",
       "    }\n",
       "</style>\n",
       "<table border=\"1\" class=\"dataframe\">\n",
       "  <thead>\n",
       "    <tr style=\"text-align: right;\">\n",
       "      <th></th>\n",
       "      <th>userid</th>\n",
       "      <th>score</th>\n",
       "      <th>city</th>\n",
       "      <th>gender</th>\n",
       "      <th>age</th>\n",
       "      <th>objects</th>\n",
       "      <th>balance</th>\n",
       "      <th>products</th>\n",
       "      <th>creditcard</th>\n",
       "      <th>loyalty</th>\n",
       "      <th>estimated_salary</th>\n",
       "      <th>churn</th>\n",
       "      <th>score_category</th>\n",
       "    </tr>\n",
       "  </thead>\n",
       "  <tbody>\n",
       "    <tr>\n",
       "      <th>0</th>\n",
       "      <td>15677338</td>\n",
       "      <td>619</td>\n",
       "      <td>Ярославль</td>\n",
       "      <td>Ж</td>\n",
       "      <td>42</td>\n",
       "      <td>2</td>\n",
       "      <td>0.00</td>\n",
       "      <td>1</td>\n",
       "      <td>1</td>\n",
       "      <td>1</td>\n",
       "      <td>101348.88</td>\n",
       "      <td>1</td>\n",
       "      <td>средний рейтинг</td>\n",
       "    </tr>\n",
       "    <tr>\n",
       "      <th>1</th>\n",
       "      <td>15690047</td>\n",
       "      <td>608</td>\n",
       "      <td>Рыбинск</td>\n",
       "      <td>Ж</td>\n",
       "      <td>41</td>\n",
       "      <td>1</td>\n",
       "      <td>83807.86</td>\n",
       "      <td>1</td>\n",
       "      <td>0</td>\n",
       "      <td>1</td>\n",
       "      <td>112542.58</td>\n",
       "      <td>0</td>\n",
       "      <td>средний рейтинг</td>\n",
       "    </tr>\n",
       "    <tr>\n",
       "      <th>2</th>\n",
       "      <td>15662040</td>\n",
       "      <td>502</td>\n",
       "      <td>Ярославль</td>\n",
       "      <td>Ж</td>\n",
       "      <td>42</td>\n",
       "      <td>8</td>\n",
       "      <td>159660.80</td>\n",
       "      <td>3</td>\n",
       "      <td>1</td>\n",
       "      <td>0</td>\n",
       "      <td>113931.57</td>\n",
       "      <td>1</td>\n",
       "      <td>средний рейтинг</td>\n",
       "    </tr>\n",
       "    <tr>\n",
       "      <th>3</th>\n",
       "      <td>15744090</td>\n",
       "      <td>699</td>\n",
       "      <td>Ярославль</td>\n",
       "      <td>Ж</td>\n",
       "      <td>39</td>\n",
       "      <td>1</td>\n",
       "      <td>0.00</td>\n",
       "      <td>2</td>\n",
       "      <td>0</td>\n",
       "      <td>0</td>\n",
       "      <td>93826.63</td>\n",
       "      <td>0</td>\n",
       "      <td>средний рейтинг</td>\n",
       "    </tr>\n",
       "    <tr>\n",
       "      <th>4</th>\n",
       "      <td>15780624</td>\n",
       "      <td>850</td>\n",
       "      <td>Рыбинск</td>\n",
       "      <td>Ж</td>\n",
       "      <td>43</td>\n",
       "      <td>2</td>\n",
       "      <td>125510.82</td>\n",
       "      <td>1</td>\n",
       "      <td>1</td>\n",
       "      <td>1</td>\n",
       "      <td>79084.10</td>\n",
       "      <td>0</td>\n",
       "      <td>высокий рейтинг</td>\n",
       "    </tr>\n",
       "  </tbody>\n",
       "</table>\n",
       "</div>"
      ],
      "text/plain": [
       "     userid  score       city gender  age  objects   balance  products  \\\n",
       "0  15677338    619  Ярославль      Ж   42        2      0.00         1   \n",
       "1  15690047    608    Рыбинск      Ж   41        1  83807.86         1   \n",
       "2  15662040    502  Ярославль      Ж   42        8 159660.80         3   \n",
       "3  15744090    699  Ярославль      Ж   39        1      0.00         2   \n",
       "4  15780624    850    Рыбинск      Ж   43        2 125510.82         1   \n",
       "\n",
       "   creditcard  loyalty  estimated_salary  churn   score_category  \n",
       "0           1        1         101348.88      1  средний рейтинг  \n",
       "1           0        1         112542.58      0  средний рейтинг  \n",
       "2           1        0         113931.57      1  средний рейтинг  \n",
       "3           0        0          93826.63      0  средний рейтинг  \n",
       "4           1        1          79084.10      0  высокий рейтинг  "
      ]
     },
     "execution_count": 26,
     "metadata": {},
     "output_type": "execute_result"
    }
   ],
   "source": [
    "#категоризация по скорингу\n",
    "def score_category(df):\n",
    "    \n",
    "    if df['score'] < 500:\n",
    "        return 'низкий рейтинг'\n",
    "    \n",
    "    elif df['score'] <= 700:\n",
    "        return 'средний рейтинг'\n",
    "    \n",
    "    else:\n",
    "        return 'высокий рейтинг'\n",
    "\n",
    "#добавим новый столбец\n",
    "df['score_category'] = df.apply(score_category, axis=1)\n",
    "\n",
    "df.head(5)"
   ]
  },
  {
   "cell_type": "code",
   "execution_count": 27,
   "metadata": {},
   "outputs": [
    {
     "data": {
      "image/png": "[encoded data removed]",
      "text/plain": [
       "<Figure size 432x288 with 1 Axes>"
      ]
     },
     "metadata": {
      "needs_background": "light"
     },
     "output_type": "display_data"
    }
   ],
   "source": [
    "sns.countplot(x = 'score_category', data = df, palette = 'Blues_r')\n",
    "plt.title('Кол-во клиентов в разбивке по скорингу')\n",
    "plt.show()"
   ]
  },
  {
   "cell_type": "code",
   "execution_count": 28,
   "metadata": {},
   "outputs": [
    {
     "data": {
      "text/html": [
       "<div>\n",
       "<style scoped>\n",
       "    .dataframe tbody tr th:only-of-type {\n",
       "        vertical-align: middle;\n",
       "    }\n",
       "\n",
       "    .dataframe tbody tr th {\n",
       "        vertical-align: top;\n",
       "    }\n",
       "\n",
       "    .dataframe thead th {\n",
       "        text-align: right;\n",
       "    }\n",
       "</style>\n",
       "<table border=\"1\" class=\"dataframe\">\n",
       "  <thead>\n",
       "    <tr style=\"text-align: right;\">\n",
       "      <th></th>\n",
       "      <th>userid</th>\n",
       "      <th>score</th>\n",
       "      <th>city</th>\n",
       "      <th>gender</th>\n",
       "      <th>age</th>\n",
       "      <th>objects</th>\n",
       "      <th>balance</th>\n",
       "      <th>products</th>\n",
       "      <th>creditcard</th>\n",
       "      <th>loyalty</th>\n",
       "      <th>estimated_salary</th>\n",
       "      <th>churn</th>\n",
       "      <th>score_category</th>\n",
       "      <th>salary_category</th>\n",
       "    </tr>\n",
       "  </thead>\n",
       "  <tbody>\n",
       "    <tr>\n",
       "      <th>0</th>\n",
       "      <td>15677338</td>\n",
       "      <td>619</td>\n",
       "      <td>Ярославль</td>\n",
       "      <td>Ж</td>\n",
       "      <td>42</td>\n",
       "      <td>2</td>\n",
       "      <td>0.00</td>\n",
       "      <td>1</td>\n",
       "      <td>1</td>\n",
       "      <td>1</td>\n",
       "      <td>101348.88</td>\n",
       "      <td>1</td>\n",
       "      <td>средний рейтинг</td>\n",
       "      <td>высокий доход</td>\n",
       "    </tr>\n",
       "    <tr>\n",
       "      <th>1</th>\n",
       "      <td>15690047</td>\n",
       "      <td>608</td>\n",
       "      <td>Рыбинск</td>\n",
       "      <td>Ж</td>\n",
       "      <td>41</td>\n",
       "      <td>1</td>\n",
       "      <td>83807.86</td>\n",
       "      <td>1</td>\n",
       "      <td>0</td>\n",
       "      <td>1</td>\n",
       "      <td>112542.58</td>\n",
       "      <td>0</td>\n",
       "      <td>средний рейтинг</td>\n",
       "      <td>высокий доход</td>\n",
       "    </tr>\n",
       "    <tr>\n",
       "      <th>2</th>\n",
       "      <td>15662040</td>\n",
       "      <td>502</td>\n",
       "      <td>Ярославль</td>\n",
       "      <td>Ж</td>\n",
       "      <td>42</td>\n",
       "      <td>8</td>\n",
       "      <td>159660.80</td>\n",
       "      <td>3</td>\n",
       "      <td>1</td>\n",
       "      <td>0</td>\n",
       "      <td>113931.57</td>\n",
       "      <td>1</td>\n",
       "      <td>средний рейтинг</td>\n",
       "      <td>высокий доход</td>\n",
       "    </tr>\n",
       "    <tr>\n",
       "      <th>3</th>\n",
       "      <td>15744090</td>\n",
       "      <td>699</td>\n",
       "      <td>Ярославль</td>\n",
       "      <td>Ж</td>\n",
       "      <td>39</td>\n",
       "      <td>1</td>\n",
       "      <td>0.00</td>\n",
       "      <td>2</td>\n",
       "      <td>0</td>\n",
       "      <td>0</td>\n",
       "      <td>93826.63</td>\n",
       "      <td>0</td>\n",
       "      <td>средний рейтинг</td>\n",
       "      <td>средний доход</td>\n",
       "    </tr>\n",
       "    <tr>\n",
       "      <th>4</th>\n",
       "      <td>15780624</td>\n",
       "      <td>850</td>\n",
       "      <td>Рыбинск</td>\n",
       "      <td>Ж</td>\n",
       "      <td>43</td>\n",
       "      <td>2</td>\n",
       "      <td>125510.82</td>\n",
       "      <td>1</td>\n",
       "      <td>1</td>\n",
       "      <td>1</td>\n",
       "      <td>79084.10</td>\n",
       "      <td>0</td>\n",
       "      <td>высокий рейтинг</td>\n",
       "      <td>средний доход</td>\n",
       "    </tr>\n",
       "  </tbody>\n",
       "</table>\n",
       "</div>"
      ],
      "text/plain": [
       "     userid  score       city gender  age  objects   balance  products  \\\n",
       "0  15677338    619  Ярославль      Ж   42        2      0.00         1   \n",
       "1  15690047    608    Рыбинск      Ж   41        1  83807.86         1   \n",
       "2  15662040    502  Ярославль      Ж   42        8 159660.80         3   \n",
       "3  15744090    699  Ярославль      Ж   39        1      0.00         2   \n",
       "4  15780624    850    Рыбинск      Ж   43        2 125510.82         1   \n",
       "\n",
       "   creditcard  loyalty  estimated_salary  churn   score_category  \\\n",
       "0           1        1         101348.88      1  средний рейтинг   \n",
       "1           0        1         112542.58      0  средний рейтинг   \n",
       "2           1        0         113931.57      1  средний рейтинг   \n",
       "3           0        0          93826.63      0  средний рейтинг   \n",
       "4           1        1          79084.10      0  высокий рейтинг   \n",
       "\n",
       "  salary_category  \n",
       "0   высокий доход  \n",
       "1   высокий доход  \n",
       "2   высокий доход  \n",
       "3   средний доход  \n",
       "4   средний доход  "
      ]
     },
     "execution_count": 28,
     "metadata": {},
     "output_type": "execute_result"
    }
   ],
   "source": [
    "#категоризация по уровню дохода\n",
    "def sal_category(df):\n",
    "    \n",
    "    if df['estimated_salary'] <= 55000:\n",
    "        return 'низкий доход'\n",
    "    \n",
    "    elif df['estimated_salary'] <= 100000:\n",
    "        return 'средний доход'\n",
    "    \n",
    "    else:\n",
    "        return 'высокий доход'\n",
    "\n",
    "#добавим новый столбец\n",
    "df['salary_category'] = df.apply(sal_category, axis=1)\n",
    "\n",
    "df.head(5)"
   ]
  },
  {
   "cell_type": "code",
   "execution_count": 29,
   "metadata": {},
   "outputs": [
    {
     "data": {
      "image/png": "[encoded data removed]",
      "text/plain": [
       "<Figure size 432x288 with 1 Axes>"
      ]
     },
     "metadata": {
      "needs_background": "light"
     },
     "output_type": "display_data"
    }
   ],
   "source": [
    "sns.countplot(x = 'salary_category', data = df, palette = 'Blues_r')\n",
    "plt.title('Кол-во клиентов в разбивке по зарплате')\n",
    "plt.show()"
   ]
  },
  {
   "cell_type": "code",
   "execution_count": 30,
   "metadata": {},
   "outputs": [
    {
     "data": {
      "text/html": [
       "<div>\n",
       "<style scoped>\n",
       "    .dataframe tbody tr th:only-of-type {\n",
       "        vertical-align: middle;\n",
       "    }\n",
       "\n",
       "    .dataframe tbody tr th {\n",
       "        vertical-align: top;\n",
       "    }\n",
       "\n",
       "    .dataframe thead th {\n",
       "        text-align: right;\n",
       "    }\n",
       "</style>\n",
       "<table border=\"1\" class=\"dataframe\">\n",
       "  <thead>\n",
       "    <tr style=\"text-align: right;\">\n",
       "      <th></th>\n",
       "      <th>userid</th>\n",
       "      <th>score</th>\n",
       "      <th>city</th>\n",
       "      <th>gender</th>\n",
       "      <th>age</th>\n",
       "      <th>objects</th>\n",
       "      <th>balance</th>\n",
       "      <th>products</th>\n",
       "      <th>creditcard</th>\n",
       "      <th>loyalty</th>\n",
       "      <th>estimated_salary</th>\n",
       "      <th>churn</th>\n",
       "      <th>score_category</th>\n",
       "      <th>salary_category</th>\n",
       "      <th>age_category</th>\n",
       "    </tr>\n",
       "  </thead>\n",
       "  <tbody>\n",
       "    <tr>\n",
       "      <th>1606</th>\n",
       "      <td>15756816</td>\n",
       "      <td>566</td>\n",
       "      <td>Ростов Великий</td>\n",
       "      <td>Ж</td>\n",
       "      <td>40</td>\n",
       "      <td>2</td>\n",
       "      <td>97001.36</td>\n",
       "      <td>2</td>\n",
       "      <td>1</td>\n",
       "      <td>0</td>\n",
       "      <td>154486.01</td>\n",
       "      <td>0</td>\n",
       "      <td>средний рейтинг</td>\n",
       "      <td>высокий доход</td>\n",
       "      <td>среднего возраста</td>\n",
       "    </tr>\n",
       "    <tr>\n",
       "      <th>7702</th>\n",
       "      <td>15762667</td>\n",
       "      <td>850</td>\n",
       "      <td>Ярославль</td>\n",
       "      <td>М</td>\n",
       "      <td>31</td>\n",
       "      <td>8</td>\n",
       "      <td>0.00</td>\n",
       "      <td>2</td>\n",
       "      <td>1</td>\n",
       "      <td>0</td>\n",
       "      <td>178667.70</td>\n",
       "      <td>0</td>\n",
       "      <td>высокий рейтинг</td>\n",
       "      <td>высокий доход</td>\n",
       "      <td>молодого возраста</td>\n",
       "    </tr>\n",
       "    <tr>\n",
       "      <th>923</th>\n",
       "      <td>15643762</td>\n",
       "      <td>572</td>\n",
       "      <td>Ростов Великий</td>\n",
       "      <td>Ж</td>\n",
       "      <td>19</td>\n",
       "      <td>1</td>\n",
       "      <td>138657.08</td>\n",
       "      <td>1</td>\n",
       "      <td>1</td>\n",
       "      <td>1</td>\n",
       "      <td>16161.82</td>\n",
       "      <td>0</td>\n",
       "      <td>средний рейтинг</td>\n",
       "      <td>низкий доход</td>\n",
       "      <td>молодого возраста</td>\n",
       "    </tr>\n",
       "    <tr>\n",
       "      <th>9529</th>\n",
       "      <td>15704444</td>\n",
       "      <td>508</td>\n",
       "      <td>Ярославль</td>\n",
       "      <td>Ж</td>\n",
       "      <td>41</td>\n",
       "      <td>5</td>\n",
       "      <td>0.00</td>\n",
       "      <td>2</td>\n",
       "      <td>1</td>\n",
       "      <td>1</td>\n",
       "      <td>94170.84</td>\n",
       "      <td>0</td>\n",
       "      <td>средний рейтинг</td>\n",
       "      <td>средний доход</td>\n",
       "      <td>среднего возраста</td>\n",
       "    </tr>\n",
       "    <tr>\n",
       "      <th>4118</th>\n",
       "      <td>15825047</td>\n",
       "      <td>529</td>\n",
       "      <td>Ярославль</td>\n",
       "      <td>М</td>\n",
       "      <td>28</td>\n",
       "      <td>9</td>\n",
       "      <td>0.00</td>\n",
       "      <td>2</td>\n",
       "      <td>1</td>\n",
       "      <td>1</td>\n",
       "      <td>52545.24</td>\n",
       "      <td>0</td>\n",
       "      <td>средний рейтинг</td>\n",
       "      <td>низкий доход</td>\n",
       "      <td>молодого возраста</td>\n",
       "    </tr>\n",
       "  </tbody>\n",
       "</table>\n",
       "</div>"
      ],
      "text/plain": [
       "        userid  score            city gender  age  objects   balance  \\\n",
       "1606  15756816    566  Ростов Великий      Ж   40        2  97001.36   \n",
       "7702  15762667    850       Ярославль      М   31        8      0.00   \n",
       "923   15643762    572  Ростов Великий      Ж   19        1 138657.08   \n",
       "9529  15704444    508       Ярославль      Ж   41        5      0.00   \n",
       "4118  15825047    529       Ярославль      М   28        9      0.00   \n",
       "\n",
       "      products  creditcard  loyalty  estimated_salary  churn   score_category  \\\n",
       "1606         2           1        0         154486.01      0  средний рейтинг   \n",
       "7702         2           1        0         178667.70      0  высокий рейтинг   \n",
       "923          1           1        1          16161.82      0  средний рейтинг   \n",
       "9529         2           1        1          94170.84      0  средний рейтинг   \n",
       "4118         2           1        1          52545.24      0  средний рейтинг   \n",
       "\n",
       "     salary_category       age_category  \n",
       "1606   высокий доход  среднего возраста  \n",
       "7702   высокий доход  молодого возраста  \n",
       "923     низкий доход  молодого возраста  \n",
       "9529   средний доход  среднего возраста  \n",
       "4118    низкий доход  молодого возраста  "
      ]
     },
     "execution_count": 30,
     "metadata": {},
     "output_type": "execute_result"
    }
   ],
   "source": [
    "#категоризация по возрасту\n",
    "def age_category(df):\n",
    "    \n",
    "    if df['age'] <= 35:\n",
    "        return 'молодого возраста'\n",
    "    \n",
    "    elif df['age'] <= 60:\n",
    "        return 'среднего возраста'\n",
    "    \n",
    "    else:\n",
    "        return 'пенсионного возраста'\n",
    "\n",
    "#добавим новый столбец \n",
    "df['age_category'] = df.apply(age_category, axis=1)\n",
    "\n",
    "df.sample(5)"
   ]
  },
  {
   "cell_type": "code",
   "execution_count": 31,
   "metadata": {},
   "outputs": [
    {
     "data": {
      "image/png": "[encoded data removed]",
      "text/plain": [
       "<Figure size 432x288 with 1 Axes>"
      ]
     },
     "metadata": {
      "needs_background": "light"
     },
     "output_type": "display_data"
    }
   ],
   "source": [
    "sns.countplot(x = 'age_category', data = df, palette = 'Blues_r')\n",
    "plt.title('Кол-во клиентов в разбивке по возрасту')\n",
    "plt.show()"
   ]
  },
  {
   "cell_type": "code",
   "execution_count": 32,
   "metadata": {},
   "outputs": [
    {
     "data": {
      "text/html": [
       "<div>\n",
       "<style scoped>\n",
       "    .dataframe tbody tr th:only-of-type {\n",
       "        vertical-align: middle;\n",
       "    }\n",
       "\n",
       "    .dataframe tbody tr th {\n",
       "        vertical-align: top;\n",
       "    }\n",
       "\n",
       "    .dataframe thead th {\n",
       "        text-align: right;\n",
       "    }\n",
       "</style>\n",
       "<table border=\"1\" class=\"dataframe\">\n",
       "  <thead>\n",
       "    <tr style=\"text-align: right;\">\n",
       "      <th></th>\n",
       "      <th>userid</th>\n",
       "      <th>score</th>\n",
       "      <th>city</th>\n",
       "      <th>gender</th>\n",
       "      <th>age</th>\n",
       "      <th>objects</th>\n",
       "      <th>balance</th>\n",
       "      <th>products</th>\n",
       "      <th>creditcard</th>\n",
       "      <th>loyalty</th>\n",
       "      <th>estimated_salary</th>\n",
       "      <th>churn</th>\n",
       "      <th>score_category</th>\n",
       "      <th>salary_category</th>\n",
       "      <th>age_category</th>\n",
       "      <th>objects_category</th>\n",
       "    </tr>\n",
       "  </thead>\n",
       "  <tbody>\n",
       "    <tr>\n",
       "      <th>40</th>\n",
       "      <td>15662096</td>\n",
       "      <td>472</td>\n",
       "      <td>Рыбинск</td>\n",
       "      <td>М</td>\n",
       "      <td>40</td>\n",
       "      <td>4</td>\n",
       "      <td>0.00</td>\n",
       "      <td>1</td>\n",
       "      <td>1</td>\n",
       "      <td>0</td>\n",
       "      <td>70154.22</td>\n",
       "      <td>0</td>\n",
       "      <td>низкий рейтинг</td>\n",
       "      <td>средний доход</td>\n",
       "      <td>среднего возраста</td>\n",
       "      <td>3-5 объектов</td>\n",
       "    </tr>\n",
       "    <tr>\n",
       "      <th>9865</th>\n",
       "      <td>15734686</td>\n",
       "      <td>591</td>\n",
       "      <td>Ярославль</td>\n",
       "      <td>М</td>\n",
       "      <td>49</td>\n",
       "      <td>3</td>\n",
       "      <td>0.00</td>\n",
       "      <td>2</td>\n",
       "      <td>1</td>\n",
       "      <td>0</td>\n",
       "      <td>50123.44</td>\n",
       "      <td>0</td>\n",
       "      <td>средний рейтинг</td>\n",
       "      <td>низкий доход</td>\n",
       "      <td>среднего возраста</td>\n",
       "      <td>3-5 объектов</td>\n",
       "    </tr>\n",
       "    <tr>\n",
       "      <th>8905</th>\n",
       "      <td>15704481</td>\n",
       "      <td>557</td>\n",
       "      <td>Ярославль</td>\n",
       "      <td>М</td>\n",
       "      <td>36</td>\n",
       "      <td>3</td>\n",
       "      <td>0.00</td>\n",
       "      <td>1</td>\n",
       "      <td>0</td>\n",
       "      <td>1</td>\n",
       "      <td>144078.02</td>\n",
       "      <td>0</td>\n",
       "      <td>средний рейтинг</td>\n",
       "      <td>высокий доход</td>\n",
       "      <td>среднего возраста</td>\n",
       "      <td>3-5 объектов</td>\n",
       "    </tr>\n",
       "    <tr>\n",
       "      <th>5850</th>\n",
       "      <td>15804827</td>\n",
       "      <td>631</td>\n",
       "      <td>Ростов Великий</td>\n",
       "      <td>Ж</td>\n",
       "      <td>22</td>\n",
       "      <td>6</td>\n",
       "      <td>139129.92</td>\n",
       "      <td>1</td>\n",
       "      <td>1</td>\n",
       "      <td>1</td>\n",
       "      <td>63747.51</td>\n",
       "      <td>0</td>\n",
       "      <td>средний рейтинг</td>\n",
       "      <td>средний доход</td>\n",
       "      <td>молодого возраста</td>\n",
       "      <td>боле 5 объектов</td>\n",
       "    </tr>\n",
       "    <tr>\n",
       "      <th>9773</th>\n",
       "      <td>15741198</td>\n",
       "      <td>532</td>\n",
       "      <td>Ярославль</td>\n",
       "      <td>М</td>\n",
       "      <td>36</td>\n",
       "      <td>4</td>\n",
       "      <td>0.00</td>\n",
       "      <td>2</td>\n",
       "      <td>1</td>\n",
       "      <td>1</td>\n",
       "      <td>132798.78</td>\n",
       "      <td>0</td>\n",
       "      <td>средний рейтинг</td>\n",
       "      <td>высокий доход</td>\n",
       "      <td>среднего возраста</td>\n",
       "      <td>3-5 объектов</td>\n",
       "    </tr>\n",
       "  </tbody>\n",
       "</table>\n",
       "</div>"
      ],
      "text/plain": [
       "        userid  score            city gender  age  objects   balance  \\\n",
       "40    15662096    472         Рыбинск      М   40        4      0.00   \n",
       "9865  15734686    591       Ярославль      М   49        3      0.00   \n",
       "8905  15704481    557       Ярославль      М   36        3      0.00   \n",
       "5850  15804827    631  Ростов Великий      Ж   22        6 139129.92   \n",
       "9773  15741198    532       Ярославль      М   36        4      0.00   \n",
       "\n",
       "      products  creditcard  loyalty  estimated_salary  churn   score_category  \\\n",
       "40           1           1        0          70154.22      0   низкий рейтинг   \n",
       "9865         2           1        0          50123.44      0  средний рейтинг   \n",
       "8905         1           0        1         144078.02      0  средний рейтинг   \n",
       "5850         1           1        1          63747.51      0  средний рейтинг   \n",
       "9773         2           1        1         132798.78      0  средний рейтинг   \n",
       "\n",
       "     salary_category       age_category objects_category  \n",
       "40     средний доход  среднего возраста     3-5 объектов  \n",
       "9865    низкий доход  среднего возраста     3-5 объектов  \n",
       "8905   высокий доход  среднего возраста     3-5 объектов  \n",
       "5850   средний доход  молодого возраста  боле 5 объектов  \n",
       "9773   высокий доход  среднего возраста     3-5 объектов  "
      ]
     },
     "execution_count": 32,
     "metadata": {},
     "output_type": "execute_result"
    }
   ],
   "source": [
    "#категоризация по числу объектов в собстенности\n",
    "def objects_category(df):\n",
    "    \n",
    "    if df['objects'] == 0:\n",
    "        return 'нет объектов'\n",
    "    \n",
    "    elif df['objects'] < 3:\n",
    "        return '1-2 объекта'\n",
    "    \n",
    "    elif df['objects'] <= 5:\n",
    "        return '3-5 объектов'\n",
    "    \n",
    "    else:\n",
    "        return 'боле 5 объектов'\n",
    "\n",
    "#добавим новый столбец в таблицу\n",
    "df['objects_category'] = df.apply(objects_category, axis=1)\n",
    "\n",
    "df.sample(5)"
   ]
  },
  {
   "cell_type": "code",
   "execution_count": 33,
   "metadata": {},
   "outputs": [
    {
     "data": {
      "image/png": "[encoded data removed]",
      "text/plain": [
       "<Figure size 432x288 with 1 Axes>"
      ]
     },
     "metadata": {
      "needs_background": "light"
     },
     "output_type": "display_data"
    }
   ],
   "source": [
    "sns.countplot(x = 'objects_category', data = df, palette = 'Blues_r')\n",
    "plt.title('Кол-во клиентов в разбивке по количеству объектов во владении')\n",
    "plt.show()"
   ]
  },
  {
   "cell_type": "markdown",
   "metadata": {},
   "source": [
    "преобладают клиенты среднего возраста, с высоким достатком, у которых во владении более 5 объектов и средний уровень банковского скоринга"
   ]
  },
  {
   "cell_type": "markdown",
   "metadata": {},
   "source": [
    "<a id=\"part3\"></a>\n",
    "## Исследовательский анализ данных"
   ]
  },
  {
   "cell_type": "markdown",
   "metadata": {},
   "source": [
    "### анализ средних значений признаков"
   ]
  },
  {
   "cell_type": "code",
   "execution_count": 34,
   "metadata": {},
   "outputs": [],
   "source": [
    "###заменим пол на единицы и нули, чтобы посмотреть статистику пo полу\n",
    "df2 = df.copy()\n",
    "df2['gender'] = df2['gender'].replace({'Ж':0, 'М': 1})"
   ]
  },
  {
   "cell_type": "code",
   "execution_count": 35,
   "metadata": {
    "scrolled": true
   },
   "outputs": [
    {
     "data": {
      "text/html": [
       "<div>\n",
       "<style scoped>\n",
       "    .dataframe tbody tr th:only-of-type {\n",
       "        vertical-align: middle;\n",
       "    }\n",
       "\n",
       "    .dataframe tbody tr th {\n",
       "        vertical-align: top;\n",
       "    }\n",
       "\n",
       "    .dataframe thead th {\n",
       "        text-align: right;\n",
       "    }\n",
       "</style>\n",
       "<table border=\"1\" class=\"dataframe\">\n",
       "  <thead>\n",
       "    <tr style=\"text-align: right;\">\n",
       "      <th></th>\n",
       "      <th>userid</th>\n",
       "      <th>score</th>\n",
       "      <th>gender</th>\n",
       "      <th>age</th>\n",
       "      <th>objects</th>\n",
       "      <th>balance</th>\n",
       "      <th>products</th>\n",
       "      <th>creditcard</th>\n",
       "      <th>loyalty</th>\n",
       "      <th>estimated_salary</th>\n",
       "      <th>churn</th>\n",
       "    </tr>\n",
       "  </thead>\n",
       "  <tbody>\n",
       "    <tr>\n",
       "      <th>count</th>\n",
       "      <td>10000.00</td>\n",
       "      <td>10000.00</td>\n",
       "      <td>10000.00</td>\n",
       "      <td>10000.00</td>\n",
       "      <td>10000.00</td>\n",
       "      <td>10000.00</td>\n",
       "      <td>10000.00</td>\n",
       "      <td>10000.00</td>\n",
       "      <td>10000.00</td>\n",
       "      <td>10000.00</td>\n",
       "      <td>10000.00</td>\n",
       "    </tr>\n",
       "    <tr>\n",
       "      <th>mean</th>\n",
       "      <td>15733676.57</td>\n",
       "      <td>650.53</td>\n",
       "      <td>0.55</td>\n",
       "      <td>38.92</td>\n",
       "      <td>5.01</td>\n",
       "      <td>76485.89</td>\n",
       "      <td>1.53</td>\n",
       "      <td>0.71</td>\n",
       "      <td>0.52</td>\n",
       "      <td>100090.24</td>\n",
       "      <td>0.20</td>\n",
       "    </tr>\n",
       "    <tr>\n",
       "      <th>std</th>\n",
       "      <td>71936.19</td>\n",
       "      <td>96.65</td>\n",
       "      <td>0.50</td>\n",
       "      <td>10.49</td>\n",
       "      <td>2.89</td>\n",
       "      <td>62397.41</td>\n",
       "      <td>0.58</td>\n",
       "      <td>0.46</td>\n",
       "      <td>0.50</td>\n",
       "      <td>57510.49</td>\n",
       "      <td>0.40</td>\n",
       "    </tr>\n",
       "    <tr>\n",
       "      <th>min</th>\n",
       "      <td>15608437.00</td>\n",
       "      <td>350.00</td>\n",
       "      <td>0.00</td>\n",
       "      <td>18.00</td>\n",
       "      <td>0.00</td>\n",
       "      <td>0.00</td>\n",
       "      <td>1.00</td>\n",
       "      <td>0.00</td>\n",
       "      <td>0.00</td>\n",
       "      <td>11.58</td>\n",
       "      <td>0.00</td>\n",
       "    </tr>\n",
       "    <tr>\n",
       "      <th>25%</th>\n",
       "      <td>15671264.25</td>\n",
       "      <td>584.00</td>\n",
       "      <td>0.00</td>\n",
       "      <td>32.00</td>\n",
       "      <td>3.00</td>\n",
       "      <td>0.00</td>\n",
       "      <td>1.00</td>\n",
       "      <td>0.00</td>\n",
       "      <td>0.00</td>\n",
       "      <td>51002.11</td>\n",
       "      <td>0.00</td>\n",
       "    </tr>\n",
       "    <tr>\n",
       "      <th>50%</th>\n",
       "      <td>15733474.00</td>\n",
       "      <td>652.00</td>\n",
       "      <td>1.00</td>\n",
       "      <td>37.00</td>\n",
       "      <td>5.00</td>\n",
       "      <td>97198.54</td>\n",
       "      <td>1.00</td>\n",
       "      <td>1.00</td>\n",
       "      <td>1.00</td>\n",
       "      <td>100193.91</td>\n",
       "      <td>0.00</td>\n",
       "    </tr>\n",
       "    <tr>\n",
       "      <th>75%</th>\n",
       "      <td>15795969.75</td>\n",
       "      <td>718.00</td>\n",
       "      <td>1.00</td>\n",
       "      <td>44.00</td>\n",
       "      <td>7.00</td>\n",
       "      <td>127644.24</td>\n",
       "      <td>2.00</td>\n",
       "      <td>1.00</td>\n",
       "      <td>1.00</td>\n",
       "      <td>149388.25</td>\n",
       "      <td>0.00</td>\n",
       "    </tr>\n",
       "    <tr>\n",
       "      <th>max</th>\n",
       "      <td>15858426.00</td>\n",
       "      <td>850.00</td>\n",
       "      <td>1.00</td>\n",
       "      <td>92.00</td>\n",
       "      <td>10.00</td>\n",
       "      <td>250898.09</td>\n",
       "      <td>4.00</td>\n",
       "      <td>1.00</td>\n",
       "      <td>1.00</td>\n",
       "      <td>199992.48</td>\n",
       "      <td>1.00</td>\n",
       "    </tr>\n",
       "  </tbody>\n",
       "</table>\n",
       "</div>"
      ],
      "text/plain": [
       "           userid    score   gender      age  objects   balance  products  \\\n",
       "count    10000.00 10000.00 10000.00 10000.00 10000.00  10000.00  10000.00   \n",
       "mean  15733676.57   650.53     0.55    38.92     5.01  76485.89      1.53   \n",
       "std      71936.19    96.65     0.50    10.49     2.89  62397.41      0.58   \n",
       "min   15608437.00   350.00     0.00    18.00     0.00      0.00      1.00   \n",
       "25%   15671264.25   584.00     0.00    32.00     3.00      0.00      1.00   \n",
       "50%   15733474.00   652.00     1.00    37.00     5.00  97198.54      1.00   \n",
       "75%   15795969.75   718.00     1.00    44.00     7.00 127644.24      2.00   \n",
       "max   15858426.00   850.00     1.00    92.00    10.00 250898.09      4.00   \n",
       "\n",
       "       creditcard  loyalty  estimated_salary    churn  \n",
       "count    10000.00 10000.00          10000.00 10000.00  \n",
       "mean         0.71     0.52         100090.24     0.20  \n",
       "std          0.46     0.50          57510.49     0.40  \n",
       "min          0.00     0.00             11.58     0.00  \n",
       "25%          0.00     0.00          51002.11     0.00  \n",
       "50%          1.00     1.00         100193.91     0.00  \n",
       "75%          1.00     1.00         149388.25     0.00  \n",
       "max          1.00     1.00         199992.48     1.00  "
      ]
     },
     "execution_count": 35,
     "metadata": {},
     "output_type": "execute_result"
    }
   ],
   "source": [
    "df2.describe()"
   ]
  },
  {
   "cell_type": "markdown",
   "metadata": {},
   "source": [
    "- кредитный скоринг равный в среднем 650 баллов, в целом стабильные клиенты, с таким баллом можно получить займ\n",
    "- мужчин и женщин поровну\n",
    "- клиентам от 18 до 92 лет, в среднем клиенту около 40 лет\n",
    "- в среднем у клиентов в собственности 5 объектов\n",
    "- в среднем(по медиане) на балансе у клиентов около 100 000 \n",
    "- в среднем клиенты пользуются 1-2 продуктами\n",
    "- у большинства есть кредитная карта\n",
    "- в среднем зп равняется 100 000\n",
    "- в этой выборке 20% клиентов ушли в отток"
   ]
  },
  {
   "cell_type": "markdown",
   "metadata": {},
   "source": [
    "### анализ средних значений признаков тех , кто ушел в отток и тех, кто остался"
   ]
  },
  {
   "cell_type": "code",
   "execution_count": 36,
   "metadata": {},
   "outputs": [
    {
     "data": {
      "text/html": [
       "<div>\n",
       "<style scoped>\n",
       "    .dataframe tbody tr th:only-of-type {\n",
       "        vertical-align: middle;\n",
       "    }\n",
       "\n",
       "    .dataframe tbody tr th {\n",
       "        vertical-align: top;\n",
       "    }\n",
       "\n",
       "    .dataframe thead th {\n",
       "        text-align: right;\n",
       "    }\n",
       "</style>\n",
       "<table border=\"1\" class=\"dataframe\">\n",
       "  <thead>\n",
       "    <tr style=\"text-align: right;\">\n",
       "      <th>churn</th>\n",
       "      <th>0</th>\n",
       "      <th>1</th>\n",
       "    </tr>\n",
       "  </thead>\n",
       "  <tbody>\n",
       "    <tr>\n",
       "      <th>userid</th>\n",
       "      <td>15733903.88</td>\n",
       "      <td>15732787.96</td>\n",
       "    </tr>\n",
       "    <tr>\n",
       "      <th>score</th>\n",
       "      <td>651.85</td>\n",
       "      <td>645.35</td>\n",
       "    </tr>\n",
       "    <tr>\n",
       "      <th>gender</th>\n",
       "      <td>0.57</td>\n",
       "      <td>0.44</td>\n",
       "    </tr>\n",
       "    <tr>\n",
       "      <th>age</th>\n",
       "      <td>37.41</td>\n",
       "      <td>44.84</td>\n",
       "    </tr>\n",
       "    <tr>\n",
       "      <th>objects</th>\n",
       "      <td>5.03</td>\n",
       "      <td>4.93</td>\n",
       "    </tr>\n",
       "    <tr>\n",
       "      <th>balance</th>\n",
       "      <td>72745.30</td>\n",
       "      <td>91108.54</td>\n",
       "    </tr>\n",
       "    <tr>\n",
       "      <th>products</th>\n",
       "      <td>1.54</td>\n",
       "      <td>1.48</td>\n",
       "    </tr>\n",
       "    <tr>\n",
       "      <th>creditcard</th>\n",
       "      <td>0.71</td>\n",
       "      <td>0.70</td>\n",
       "    </tr>\n",
       "    <tr>\n",
       "      <th>loyalty</th>\n",
       "      <td>0.55</td>\n",
       "      <td>0.36</td>\n",
       "    </tr>\n",
       "    <tr>\n",
       "      <th>estimated_salary</th>\n",
       "      <td>99738.39</td>\n",
       "      <td>101465.68</td>\n",
       "    </tr>\n",
       "  </tbody>\n",
       "</table>\n",
       "</div>"
      ],
      "text/plain": [
       "churn                      0           1\n",
       "userid           15733903.88 15732787.96\n",
       "score                 651.85      645.35\n",
       "gender                  0.57        0.44\n",
       "age                    37.41       44.84\n",
       "objects                 5.03        4.93\n",
       "balance             72745.30    91108.54\n",
       "products                1.54        1.48\n",
       "creditcard              0.71        0.70\n",
       "loyalty                 0.55        0.36\n",
       "estimated_salary    99738.39   101465.68"
      ]
     },
     "execution_count": 36,
     "metadata": {},
     "output_type": "execute_result"
    }
   ],
   "source": [
    "df2.groupby('churn').agg('mean').T"
   ]
  },
  {
   "cell_type": "markdown",
   "metadata": {},
   "source": [
    "В целом те, кто ушел в отток, не особо отличаются от тех, кто остался.\n",
    "Стоит только выделить,что в оттоке:\n",
    "- у клиентов выше возраст\n",
    "- количество денег на балансе больше\n",
    "- чаще бывают клиенты, не являющиеся активными "
   ]
  },
  {
   "cell_type": "markdown",
   "metadata": {},
   "source": [
    "### анализ распределения признаков тех , кто ушёл в отток и тех, кто остался"
   ]
  },
  {
   "cell_type": "code",
   "execution_count": 37,
   "metadata": {
    "scrolled": true
   },
   "outputs": [
    {
     "data": {
      "image/png": "[encoded data removed]",
      "text/plain": [
       "<Figure size 432x288 with 1 Axes>"
      ]
     },
     "metadata": {
      "needs_background": "light"
     },
     "output_type": "display_data"
    },
    {
     "data": {
      "image/png": "[encoded data removed]",
      "text/plain": [
       "<Figure size 432x288 with 1 Axes>"
      ]
     },
     "metadata": {
      "needs_background": "light"
     },
     "output_type": "display_data"
    },
    {
     "data": {
      "image/png": "[encoded data removed]",
      "text/plain": [
       "<Figure size 432x288 with 1 Axes>"
      ]
     },
     "metadata": {
      "needs_background": "light"
     },
     "output_type": "display_data"
    }
   ],
   "source": [
    "###Построим countplot-графики для бинарных признаков\n",
    "for column in ['gender', 'creditcard', 'loyalty']:\n",
    "    sns.countplot(x = df[column], hue='churn', data=df,palette = 'Blues_r')\n",
    "    plt.title(column)\n",
    "    plt.show()"
   ]
  },
  {
   "cell_type": "markdown",
   "metadata": {},
   "source": [
    "В отток уходит чуть больше женщин чем мужчин, те, у кого есть кредитка и те, которые неактивные"
   ]
  },
  {
   "cell_type": "code",
   "execution_count": 38,
   "metadata": {},
   "outputs": [
    {
     "data": {
      "image/png": "[encoded data removed]",
      "text/plain": [
       "<Figure size 864x288 with 2 Axes>"
      ]
     },
     "metadata": {
      "needs_background": "light"
     },
     "output_type": "display_data"
    }
   ],
   "source": [
    "###построим тепловые карты для небинарных признаков\n",
    "obj = df.pivot_table(index='churn',columns='objects_category',values='userid',aggfunc='count')\n",
    "plt.figure(figsize=(12, 4))\n",
    "sns.heatmap(obj, cmap='Blues', annot=True, fmt='.0f')\n",
    "plt.title('категория : к-во объектов во владении')\n",
    "plt.show()"
   ]
  },
  {
   "cell_type": "markdown",
   "metadata": {},
   "source": [
    "Больше всего в отток уходят клиенты у которых в собственности более 5 объектов, но это логично, потому что в данной выборке таких клиентов большинство. Поэтому напишем функцию, которая будет считать % оттока из категории"
   ]
  },
  {
   "cell_type": "code",
   "execution_count": 39,
   "metadata": {},
   "outputs": [],
   "source": [
    "def churn_from_category(piv):\n",
    "    piv= piv.reset_index()\n",
    "    for i in piv.columns:\n",
    "        print('% оттока от категории',i,': {:.2%}'.format(float(piv[piv['churn'] == 1][i]/piv[i].sum())))"
   ]
  },
  {
   "cell_type": "code",
   "execution_count": 40,
   "metadata": {},
   "outputs": [
    {
     "name": "stdout",
     "output_type": "stream",
     "text": [
      "% оттока от категории churn : 100.00%\n",
      "% оттока от категории 1-2 объекта : 20.79%\n",
      "% оттока от категории 3-5 объектов : 20.76%\n",
      "% оттока от категории боле 5 объектов : 19.67%\n",
      "% оттока от категории нет объектов : 23.00%\n"
     ]
    }
   ],
   "source": [
    "churn_from_category(obj)"
   ]
  },
  {
   "cell_type": "markdown",
   "metadata": {},
   "source": [
    "Видим, что в отток все категории уходят почти одинаково, только больше уходят те, у которых нет объектов"
   ]
  },
  {
   "cell_type": "code",
   "execution_count": 41,
   "metadata": {},
   "outputs": [
    {
     "data": {
      "image/png": "[encoded data removed]",
      "text/plain": [
       "<Figure size 864x288 with 2 Axes>"
      ]
     },
     "metadata": {
      "needs_background": "light"
     },
     "output_type": "display_data"
    }
   ],
   "source": [
    "\n",
    "score = df.pivot_table(index='churn',columns='score_category',values='userid',aggfunc='count')\n",
    "plt.figure(figsize=(12, 4))\n",
    "sns.heatmap(score, cmap='Blues', annot=True, fmt='.0f')\n",
    "plt.title('категория : скоринг')\n",
    "plt.show()"
   ]
  },
  {
   "cell_type": "code",
   "execution_count": 42,
   "metadata": {},
   "outputs": [
    {
     "name": "stdout",
     "output_type": "stream",
     "text": [
      "% оттока от категории churn : 100.00%\n",
      "% оттока от категории высокий рейтинг : 19.87%\n",
      "% оттока от категории низкий рейтинг : 23.73%\n",
      "% оттока от категории средний рейтинг : 20.28%\n"
     ]
    }
   ],
   "source": [
    "churn_from_category(score)\n"
   ]
  },
  {
   "cell_type": "markdown",
   "metadata": {},
   "source": [
    "Видим, что в отток все категории уходят почти одинаково, только больше уходят те, у которых низкий рейтинг"
   ]
  },
  {
   "cell_type": "code",
   "execution_count": 43,
   "metadata": {},
   "outputs": [
    {
     "data": {
      "image/png": "[encoded data removed]",
      "text/plain": [
       "<Figure size 864x288 with 2 Axes>"
      ]
     },
     "metadata": {
      "needs_background": "light"
     },
     "output_type": "display_data"
    }
   ],
   "source": [
    "\n",
    "salary = df.pivot_table(index='churn',columns='salary_category',values='userid',aggfunc='count')\n",
    "plt.figure(figsize=(12, 4))\n",
    "sns.heatmap(salary, cmap='Blues', annot=True, fmt='.0f')\n",
    "plt.title('категория : зарплата')\n",
    "plt.show()"
   ]
  },
  {
   "cell_type": "code",
   "execution_count": 44,
   "metadata": {},
   "outputs": [
    {
     "name": "stdout",
     "output_type": "stream",
     "text": [
      "% оттока от категории churn : 100.00%\n",
      "% оттока от категории высокий доход : 20.84%\n",
      "% оттока от категории низкий доход : 20.00%\n",
      "% оттока от категории средний доход : 19.78%\n"
     ]
    }
   ],
   "source": [
    "churn_from_category(salary)"
   ]
  },
  {
   "cell_type": "markdown",
   "metadata": {},
   "source": [
    "Все одинаково"
   ]
  },
  {
   "cell_type": "code",
   "execution_count": 45,
   "metadata": {},
   "outputs": [
    {
     "data": {
      "image/png": "[encoded data removed]",
      "text/plain": [
       "<Figure size 864x288 with 2 Axes>"
      ]
     },
     "metadata": {
      "needs_background": "light"
     },
     "output_type": "display_data"
    }
   ],
   "source": [
    "salary = df.pivot_table(index='churn',columns='age_category',values='userid',aggfunc='count')\n",
    "plt.figure(figsize=(12, 4))\n",
    "sns.heatmap(salary, cmap='Blues', annot=True, fmt='.0f')\n",
    "plt.title('категория : возраст')\n",
    "plt.show()"
   ]
  },
  {
   "cell_type": "code",
   "execution_count": 46,
   "metadata": {},
   "outputs": [
    {
     "name": "stdout",
     "output_type": "stream",
     "text": [
      "% оттока от категории churn : 100.00%\n",
      "% оттока от категории молодого возраста : 8.36%\n",
      "% оттока от категории пенсионного возраста : 24.78%\n",
      "% оттока от категории среднего возраста : 29.26%\n"
     ]
    }
   ],
   "source": [
    "churn_from_category(salary)"
   ]
  },
  {
   "cell_type": "markdown",
   "metadata": {},
   "source": [
    "Молодые менее всего склоны уходить, а вот людей среднего возраста больше всего в оттоке"
   ]
  },
  {
   "cell_type": "code",
   "execution_count": 47,
   "metadata": {},
   "outputs": [
    {
     "data": {
      "image/png": "[encoded data removed]",
      "text/plain": [
       "<Figure size 864x288 with 2 Axes>"
      ]
     },
     "metadata": {
      "needs_background": "light"
     },
     "output_type": "display_data"
    }
   ],
   "source": [
    "pro = df.pivot_table(index='churn',columns='products',values='userid',aggfunc='count')\n",
    "plt.figure(figsize=(12, 4))\n",
    "sns.heatmap(pro, cmap='Blues', annot=True, fmt='.0f')\n",
    "plt.title('категория : к-во продуктов')\n",
    "plt.show()"
   ]
  },
  {
   "cell_type": "code",
   "execution_count": 48,
   "metadata": {},
   "outputs": [
    {
     "name": "stdout",
     "output_type": "stream",
     "text": [
      "% оттока от категории churn : 100.00%\n",
      "% оттока от категории 1 : 27.71%\n",
      "% оттока от категории 2 : 7.58%\n",
      "% оттока от категории 3 : 82.71%\n",
      "% оттока от категории 4 : 100.00%\n"
     ]
    }
   ],
   "source": [
    "churn_from_category(pro)"
   ]
  },
  {
   "cell_type": "markdown",
   "metadata": {},
   "source": [
    "А вот это уже интересно, видно большое количество продуктов не пользуется популярностью у наших клиентов, и даже получилось так, что все клиенты, у которых было 4 продукта, все они ушли в отток, также большой % оттока и у клиентов, которые используют 1 продукт. Идеальный вариант, когда у клиента 2 продукта, у такого сегмента низкий % оттока"
   ]
  },
  {
   "cell_type": "code",
   "execution_count": 49,
   "metadata": {},
   "outputs": [
    {
     "data": {
      "image/png": "[encoded data removed]",
      "text/plain": [
       "<Figure size 864x288 with 2 Axes>"
      ]
     },
     "metadata": {
      "needs_background": "light"
     },
     "output_type": "display_data"
    }
   ],
   "source": [
    "city = df.pivot_table(index='churn',columns='city',values='userid',aggfunc='count')\n",
    "plt.figure(figsize=(12, 4))\n",
    "sns.heatmap(city, cmap='Blues', annot=True, fmt='.0f')\n",
    "plt.title('категория : города')\n",
    "plt.show()"
   ]
  },
  {
   "cell_type": "code",
   "execution_count": 50,
   "metadata": {},
   "outputs": [
    {
     "name": "stdout",
     "output_type": "stream",
     "text": [
      "% оттока от категории churn : 100.00%\n",
      "% оттока от категории Ростов Великий : 32.44%\n",
      "% оттока от категории Рыбинск : 16.67%\n",
      "% оттока от категории Ярославль : 16.15%\n"
     ]
    }
   ],
   "source": [
    "churn_from_category(city)"
   ]
  },
  {
   "cell_type": "markdown",
   "metadata": {},
   "source": [
    "Высокий % оттока в Ростове Великом, почти 2 больше чем в других городах"
   ]
  },
  {
   "cell_type": "markdown",
   "metadata": {},
   "source": [
    "### анализ матрицы корреляций"
   ]
  },
  {
   "cell_type": "code",
   "execution_count": 51,
   "metadata": {},
   "outputs": [
    {
     "data": {
      "image/png": "[encoded data removed]",
      "text/plain": [
       "<Figure size 1008x720 with 2 Axes>"
      ]
     },
     "metadata": {
      "needs_background": "light"
     },
     "output_type": "display_data"
    }
   ],
   "source": [
    "plt.figure(figsize=(14, 10))\n",
    "sns.heatmap(df.corr() , annot = True, fmt = '0.2f', linewidths=.5, cmap=\"Blues\")\n",
    "plt.show()"
   ]
  },
  {
   "cell_type": "markdown",
   "metadata": {},
   "source": [
    "Видим, что признаки очень слабо коррелируют с оттоком, разве что раслуживает внимания возраст, нужно будет проверить гипотезу о различии возраста между теми клиентами, которые ушли и теми, которые остались\n"
   ]
  },
  {
   "cell_type": "markdown",
   "metadata": {},
   "source": [
    "<a id=\"part4\"></a>\n",
    "## Выделение портрет клиентов, которые склонны уходить из банка"
   ]
  },
  {
   "cell_type": "markdown",
   "metadata": {},
   "source": [
    "**Портрет клиента, сколонного уйти из банка :**\n",
    "\n",
    "\n",
    "- он старше 35 лет (от 35 до 60 - 30% отток, а от 60 отток равен 25%), самые преданные - это люди до 35 лет, у них отток 8%\n",
    "\n",
    "- он живет в Великом Ростове (% отока в этом городе в 2 раза больше чем в других - 32%)\n",
    "\n",
    "- использующий 3-4 продуктов, также стоит отметить, что и те, которые используют 1 продукт, у них тоже не маленький % оттока - 28%, идеальный вариант - 2 продукта, такие клиенты меньше всех уходят\n",
    "\n",
    "- неактивный \n",
    "\n",
    "- не имеет собствености (% оттока = 23%, хоть он и не сильно опережает другие категории, но все же он у него самый высокий)\n",
    "\n",
    "- низкий кредитный скоринг (тоже не сильно превосходит другие категории)\n",
    "\n",
    "- это женщина"
   ]
  },
  {
   "cell_type": "markdown",
   "metadata": {},
   "source": [
    "**Портер клиента, не склонного уйти из банка:**\n",
    "\n",
    "- ему до 35 лет\n",
    "- живет в Рыбинске или Ярославле\n",
    "- использует 2 продукта\n",
    "- мужчина\n",
    "- активный\n",
    "- владеет более 5 объетков"
   ]
  },
  {
   "cell_type": "markdown",
   "metadata": {},
   "source": [
    "<a id=\"part5\"></a>\n",
    "##  Проверка гипотез"
   ]
  },
  {
   "cell_type": "markdown",
   "metadata": {},
   "source": [
    " ### Проверка гипотезы о различии дохода между теми клиентами, которые ушли и теми, которые остались"
   ]
  },
  {
   "cell_type": "markdown",
   "metadata": {},
   "source": [
    "Mann–Whitney U test лучше t-test поэтому будем использовать его"
   ]
  },
  {
   "cell_type": "markdown",
   "metadata": {},
   "source": [
    "**H0:Доход тех, кто в оттоке РАВЕН доходу тех, кто сотался**\n",
    "\n",
    "**H1:Доход тех, кто в оттоке НЕ РАВЕН доходу тех, кто сотался**"
   ]
  },
  {
   "cell_type": "code",
   "execution_count": 52,
   "metadata": {},
   "outputs": [
    {
     "name": "stdout",
     "output_type": "stream",
     "text": [
      "p-значение:  0.11352575465076892\n",
      "Не получилось отвергнуть H0, вывод о различии сделать нельзя\n"
     ]
    }
   ],
   "source": [
    "alpha = 0.05\n",
    "\n",
    "results = st.mannwhitneyu(df[df['churn']==1]['estimated_salary'], df[df['churn']==0]['estimated_salary'])\n",
    "pvalue = results.pvalue\n",
    "\n",
    "print('p-значение: ', pvalue)\n",
    "\n",
    "if (pvalue < alpha):\n",
    "    print(\"Отвергаем H0: разница статистически значима\")\n",
    "else:\n",
    "    print(\"Не получилось отвергнуть H0, вывод о различии сделать нельзя\")"
   ]
  },
  {
   "cell_type": "markdown",
   "metadata": {},
   "source": [
    "Как мы раньше видели, доходы чуток заличались, но это не статистически-значима разница"
   ]
  },
  {
   "cell_type": "markdown",
   "metadata": {},
   "source": [
    "### Проверка гипотеза о различии возраста между теми клиентами, которые ушли и теми, которые остались"
   ]
  },
  {
   "cell_type": "markdown",
   "metadata": {},
   "source": [
    "**H0:Возраст тех, кто в оттоке РАВЕН возрасту тех, кто сотался**\n",
    "\n",
    "**H1:Возраст тех, кто в оттоке НЕ РАВЕН возрасту тех, кто сотался**"
   ]
  },
  {
   "cell_type": "code",
   "execution_count": 53,
   "metadata": {},
   "outputs": [
    {
     "name": "stdout",
     "output_type": "stream",
     "text": [
      "p-значение:  1.6052007159685838e-230\n",
      "Отвергаем H0: разница статистически значима\n"
     ]
    }
   ],
   "source": [
    "alpha = 0.05\n",
    "\n",
    "results = st.mannwhitneyu(df[df['churn']==1]['age'], df[df['churn']==0]['age'])\n",
    "pvalue = results.pvalue\n",
    "\n",
    "print('p-значение: ', pvalue)\n",
    "\n",
    "if (pvalue < alpha):\n",
    "    print(\"Отвергаем H0: разница статистически значима\")\n",
    "else:\n",
    "    print(\"Не получилось отвергнуть H0, вывод о различии сделать нельзя\")"
   ]
  },
  {
   "cell_type": "code",
   "execution_count": 54,
   "metadata": {},
   "outputs": [
    {
     "data": {
      "text/html": [
       "<div>\n",
       "<style scoped>\n",
       "    .dataframe tbody tr th:only-of-type {\n",
       "        vertical-align: middle;\n",
       "    }\n",
       "\n",
       "    .dataframe tbody tr th {\n",
       "        vertical-align: top;\n",
       "    }\n",
       "\n",
       "    .dataframe thead tr th {\n",
       "        text-align: left;\n",
       "    }\n",
       "\n",
       "    .dataframe thead tr:last-of-type th {\n",
       "        text-align: right;\n",
       "    }\n",
       "</style>\n",
       "<table border=\"1\" class=\"dataframe\">\n",
       "  <thead>\n",
       "    <tr>\n",
       "      <th></th>\n",
       "      <th>median</th>\n",
       "      <th>mean</th>\n",
       "    </tr>\n",
       "    <tr>\n",
       "      <th></th>\n",
       "      <th>age</th>\n",
       "      <th>age</th>\n",
       "    </tr>\n",
       "    <tr>\n",
       "      <th>churn</th>\n",
       "      <th></th>\n",
       "      <th></th>\n",
       "    </tr>\n",
       "  </thead>\n",
       "  <tbody>\n",
       "    <tr>\n",
       "      <th>0</th>\n",
       "      <td>36</td>\n",
       "      <td>37.41</td>\n",
       "    </tr>\n",
       "    <tr>\n",
       "      <th>1</th>\n",
       "      <td>45</td>\n",
       "      <td>44.84</td>\n",
       "    </tr>\n",
       "  </tbody>\n",
       "</table>\n",
       "</div>"
      ],
      "text/plain": [
       "      median  mean\n",
       "         age   age\n",
       "churn             \n",
       "0         36 37.41\n",
       "1         45 44.84"
      ]
     },
     "execution_count": 54,
     "metadata": {},
     "output_type": "execute_result"
    }
   ],
   "source": [
    "df.pivot_table(index='churn', values='age', aggfunc=['median','mean'])"
   ]
  },
  {
   "cell_type": "markdown",
   "metadata": {},
   "source": [
    "Как мы и раньше замечали, что в отток склонны уходить люди постарше, здесь мы точно удостоверились, что клиенты в оттоке старше клиентов, которые остались. И видим, что разница в возрасте около 8-9 лет"
   ]
  },
  {
   "cell_type": "markdown",
   "metadata": {},
   "source": [
    "<a id=\"part6\"></a>\n",
    "\n",
    "## Выводы и рекомендации"
   ]
  },
  {
   "cell_type": "markdown",
   "metadata": {},
   "source": [
    "В данной выборке 10 000 уникальных клиентов, живущих в 3 городах. Из них 80% лояльных и 20% ушедших в отток.\n",
    "\n",
    "Большая часть клиентов банка является людьми с высоким уровнем дохода (более 100 000 руб.), среднего возраста (35-60 лет), клиенты имеют 5 и более объектов во владении, со средним уровнем кредитного скоринга, по полу выборка распределена равномерно.\n",
    "По итогам исследования был выведен такой портрет клиентов склонных и не склонных к оттоку:\n",
    "\n",
    "**Признаки клиентов, которые склонны уходить в отток:**\n",
    "\n",
    "- они старше 35 лет (от 35 до 60 - 30% отток, а от 60 отток равен 25%), самые преданные - это люди до 35 лет, у них отток всего 8%\n",
    "\n",
    "- они живут в Великом Ростове (% отока в этом городе в 2 раза больше чем в других - 32%)\n",
    "\n",
    "- используют 3-4 продуктов, также стоит отметить, что и те, которые используют 1 продукт, у них тоже не маленький % оттока - 28%, идеальный вариант - 2 продукта, такие клиенты меньше всех уходят\n",
    "\n",
    "- неактивные\n",
    "\n",
    "- не имеют собствености (% оттока = 23%, хоть он и не сильно опережает другие категории, но все же он у него самый высокий)\n",
    "\n",
    "- низкий кредитный скоринг (тоже не сильно превосходит другие категории)\n",
    "\n",
    "- в отток чаще попадают женщины\n",
    "\n",
    "**Признаки клиентов, которые не склонны уходить в отток:**\n",
    "\n",
    "- в отток реже попадают мужчины\n",
    "- у клиентов до 35 лет ( % оттока самый низкий - 8% )\n",
    "- живутт в Рыбинске или Ярославле\n",
    "- использует 2 продукта (% оттока у клиентов, которые используют 2 продукта невероятно низкий - 7,5%)\n",
    "- активные\n",
    "- владеют более 5 объетков ( он не сильно отличается от других категорий, но среди них он самый низкий - 19% )"
   ]
  },
  {
   "cell_type": "markdown",
   "metadata": {},
   "source": [
    "Стоит обратить внимание на то, что использование более 2 продуктов - самый сильный признак у клиентов склонных к оттоку. Так же важен пол (женщины больше склонны к оттоку). Есть статистически значимая разница в возрасте у лояльных и склонных к оттоку клиентов, разница составляет около 9 лет (чем старше клиент, тем больше вероятность ухода в отток). Большинство клиентов склонных к оттоку проживает в городе Ростове Великом."
   ]
  },
  {
   "cell_type": "markdown",
   "metadata": {},
   "source": [
    "# Рекомендации"
   ]
  },
  {
   "cell_type": "markdown",
   "metadata": {},
   "source": [
    "- Стоит обратиться в тех отдел, чтобы детальнее исследовать причину пропусков в столбце 'Balance'. Также стоит передать коллегам информацию по клиентам, у которых зарплата слишком маленькая, но при этом у них на балансе около 80 000 и во владении есть 5 объектов и у них средний кредитный скоринг.\n",
    "- Наблюдается большой отток у клиентов, которые пользуются 3-4 продуктами (у тех, кто использует 4, он вообще равен 100%), видно у банка есть 2 основных продукта, которыми все пользуются, но стоит клиенту обратиться за дополнительными услугами, так он с вероятностью минимум в 80% уйдет, видно качество этих продуктов оставляет желать лучшего, или же это могут быть клиенты, которые изначально приходят за этими доп продуктами, и они его не удолетворяют, также возможен вариант, что в моб приложении банка неудобно одновременно следить за 3-4 продуктами. В любом случае, нужно детальней изучить эти продукты, посмотреть после оформления какого продукта клиенты уходят и улучшить их\n",
    "- В Великом Ростове отток выше чем в других городах, стоит проверить и улучшить качество обслуживания клиентов в этом городе \n",
    "- Также в отток чаще попадают люди которым уже под 40 и больше, можно предложить категории кэшбэка, которые бы подходили этой категории клиентов. Можно также сделать какие-то специальные предложения для пенсионеров или клиентов с детьми. Также, если вдруг у банка есть свое мобильное приложение, то может сделать его более простым, чтобы клиентам, которые не привыкли работать с современными гаджетами, было проще его использовать или сделать при регистрации маленький туториал, чтобы клиентам было проще разобраться в нем"
   ]
  }
 ],
 "metadata": {
  "ExecuteTimeLog": [
   {
    "duration": 1942,
    "start_time": "2022-04-11T15:41:07.422Z"
   },
   {
    "duration": 323,
    "start_time": "2022-04-11T16:10:06.705Z"
   },
   {
    "duration": 288,
    "start_time": "2022-04-11T16:13:54.370Z"
   },
   {
    "duration": 388,
    "start_time": "2022-04-11T16:13:59.998Z"
   },
   {
    "duration": 122,
    "start_time": "2022-04-11T16:14:34.660Z"
   },
   {
    "duration": 219,
    "start_time": "2022-04-11T16:14:52.185Z"
   },
   {
    "duration": 20,
    "start_time": "2022-04-11T16:17:51.016Z"
   },
   {
    "duration": 132,
    "start_time": "2022-04-11T16:18:25.920Z"
   },
   {
    "duration": 154,
    "start_time": "2022-04-11T16:18:34.510Z"
   },
   {
    "duration": 217,
    "start_time": "2022-04-11T16:21:55.168Z"
   },
   {
    "duration": 210,
    "start_time": "2022-04-11T16:22:09.742Z"
   },
   {
    "duration": 1143,
    "start_time": "2022-04-11T16:22:14.437Z"
   },
   {
    "duration": 128,
    "start_time": "2022-04-11T16:23:22.957Z"
   },
   {
    "duration": 117,
    "start_time": "2022-04-11T16:23:41.221Z"
   },
   {
    "duration": 138,
    "start_time": "2022-04-11T16:24:06.675Z"
   },
   {
    "duration": 182,
    "start_time": "2022-04-11T16:28:56.628Z"
   },
   {
    "duration": 74,
    "start_time": "2022-04-11T16:29:38.886Z"
   },
   {
    "duration": 73,
    "start_time": "2022-04-11T16:30:31.639Z"
   },
   {
    "duration": 22,
    "start_time": "2022-04-11T16:31:53.672Z"
   },
   {
    "duration": 63,
    "start_time": "2022-04-11T16:32:09.910Z"
   },
   {
    "duration": 12,
    "start_time": "2022-04-11T16:40:16.206Z"
   },
   {
    "duration": 14,
    "start_time": "2022-04-11T16:40:22.178Z"
   },
   {
    "duration": 25,
    "start_time": "2022-04-11T16:40:28.878Z"
   },
   {
    "duration": 9,
    "start_time": "2022-04-11T16:40:40.043Z"
   },
   {
    "duration": 11,
    "start_time": "2022-04-11T16:41:04.265Z"
   },
   {
    "duration": 1932,
    "start_time": "2022-04-12T22:32:29.407Z"
   },
   {
    "duration": 283,
    "start_time": "2022-04-12T22:32:31.342Z"
   },
   {
    "duration": 19,
    "start_time": "2022-04-12T22:32:31.628Z"
   },
   {
    "duration": 74,
    "start_time": "2022-04-12T22:32:31.649Z"
   },
   {
    "duration": 17,
    "start_time": "2022-04-12T22:32:36.043Z"
   },
   {
    "duration": 16,
    "start_time": "2022-04-12T22:35:25.482Z"
   },
   {
    "duration": 15,
    "start_time": "2022-04-12T22:38:30.862Z"
   },
   {
    "duration": 7,
    "start_time": "2022-04-12T22:40:56.456Z"
   },
   {
    "duration": 29,
    "start_time": "2022-04-12T22:53:10.725Z"
   },
   {
    "duration": 10,
    "start_time": "2022-04-12T22:53:21.864Z"
   },
   {
    "duration": 7,
    "start_time": "2022-04-12T22:53:34.725Z"
   },
   {
    "duration": 12,
    "start_time": "2022-04-12T22:53:38.178Z"
   },
   {
    "duration": 13,
    "start_time": "2022-04-12T22:53:46.805Z"
   },
   {
    "duration": 17,
    "start_time": "2022-04-12T23:03:45.593Z"
   },
   {
    "duration": 52,
    "start_time": "2022-04-12T23:04:00.743Z"
   },
   {
    "duration": 136,
    "start_time": "2022-04-12T23:13:58.426Z"
   },
   {
    "duration": 328,
    "start_time": "2022-04-12T23:14:13.792Z"
   },
   {
    "duration": 17,
    "start_time": "2022-04-12T23:15:09.566Z"
   },
   {
    "duration": 14,
    "start_time": "2022-04-12T23:17:34.452Z"
   },
   {
    "duration": 328,
    "start_time": "2022-04-12T23:17:49.271Z"
   },
   {
    "duration": 150,
    "start_time": "2022-04-12T23:18:23.775Z"
   },
   {
    "duration": 261,
    "start_time": "2022-04-12T23:18:53.890Z"
   },
   {
    "duration": 20,
    "start_time": "2022-04-12T23:23:31.394Z"
   },
   {
    "duration": 6,
    "start_time": "2022-04-12T23:23:50.508Z"
   },
   {
    "duration": 5,
    "start_time": "2022-04-12T23:24:40.742Z"
   },
   {
    "duration": 6,
    "start_time": "2022-04-12T23:25:55.209Z"
   },
   {
    "duration": 6,
    "start_time": "2022-04-12T23:26:36.098Z"
   },
   {
    "duration": 50,
    "start_time": "2022-04-12T23:26:57.097Z"
   },
   {
    "duration": 6,
    "start_time": "2022-04-12T23:30:23.938Z"
   },
   {
    "duration": 11,
    "start_time": "2022-04-12T23:30:36.900Z"
   },
   {
    "duration": 7,
    "start_time": "2022-04-12T23:30:49.042Z"
   },
   {
    "duration": 76,
    "start_time": "2022-04-12T23:31:07.625Z"
   },
   {
    "duration": 50,
    "start_time": "2022-04-12T23:31:42.769Z"
   },
   {
    "duration": 6,
    "start_time": "2022-04-12T23:34:36.342Z"
   },
   {
    "duration": 6,
    "start_time": "2022-04-12T23:35:45.379Z"
   },
   {
    "duration": 6,
    "start_time": "2022-04-12T23:35:56.867Z"
   },
   {
    "duration": 5,
    "start_time": "2022-04-12T23:36:58.435Z"
   },
   {
    "duration": 5,
    "start_time": "2022-04-12T23:39:00.016Z"
   },
   {
    "duration": 7,
    "start_time": "2022-04-12T23:39:11.185Z"
   },
   {
    "duration": 45,
    "start_time": "2022-04-12T23:39:57.430Z"
   },
   {
    "duration": 6,
    "start_time": "2022-04-12T23:41:21.063Z"
   },
   {
    "duration": 4,
    "start_time": "2022-04-12T23:46:52.963Z"
   },
   {
    "duration": 48,
    "start_time": "2022-04-12T23:46:55.486Z"
   },
   {
    "duration": 50,
    "start_time": "2022-04-12T23:55:35.905Z"
   },
   {
    "duration": 5,
    "start_time": "2022-04-13T00:00:59.178Z"
   },
   {
    "duration": 48,
    "start_time": "2022-04-13T00:01:02.131Z"
   },
   {
    "duration": 5,
    "start_time": "2022-04-13T00:02:19.961Z"
   },
   {
    "duration": 48,
    "start_time": "2022-04-13T00:02:23.247Z"
   },
   {
    "duration": 8,
    "start_time": "2022-04-13T00:07:46.194Z"
   },
   {
    "duration": 11,
    "start_time": "2022-04-13T00:07:56.411Z"
   },
   {
    "duration": 5,
    "start_time": "2022-04-13T00:12:53.413Z"
   },
   {
    "duration": 51,
    "start_time": "2022-04-13T00:16:47.281Z"
   },
   {
    "duration": 15,
    "start_time": "2022-04-13T00:19:30.073Z"
   },
   {
    "duration": 152,
    "start_time": "2022-04-13T00:20:03.069Z"
   },
   {
    "duration": 146,
    "start_time": "2022-04-13T00:22:42.433Z"
   },
   {
    "duration": 141,
    "start_time": "2022-04-13T00:23:06.354Z"
   },
   {
    "duration": 164,
    "start_time": "2022-04-13T00:26:22.429Z"
   },
   {
    "duration": 34,
    "start_time": "2022-04-13T00:26:36.472Z"
   },
   {
    "duration": 159,
    "start_time": "2022-04-13T00:26:51.509Z"
   },
   {
    "duration": 237,
    "start_time": "2022-04-13T00:27:14.427Z"
   },
   {
    "duration": 172,
    "start_time": "2022-04-13T00:28:18.679Z"
   },
   {
    "duration": 164,
    "start_time": "2022-04-13T00:28:28.241Z"
   },
   {
    "duration": 169,
    "start_time": "2022-04-13T00:30:07.926Z"
   },
   {
    "duration": 174,
    "start_time": "2022-04-13T00:30:28.829Z"
   },
   {
    "duration": 192,
    "start_time": "2022-04-13T00:31:43.838Z"
   },
   {
    "duration": 189,
    "start_time": "2022-04-13T00:32:14.965Z"
   },
   {
    "duration": 203,
    "start_time": "2022-04-13T00:32:25.363Z"
   },
   {
    "duration": 185,
    "start_time": "2022-04-13T00:32:33.394Z"
   },
   {
    "duration": 178,
    "start_time": "2022-04-13T00:36:51.917Z"
   },
   {
    "duration": 62,
    "start_time": "2022-04-13T16:59:05.399Z"
   },
   {
    "duration": 1494,
    "start_time": "2022-04-13T16:59:14.921Z"
   },
   {
    "duration": 162,
    "start_time": "2022-04-13T16:59:16.417Z"
   },
   {
    "duration": 13,
    "start_time": "2022-04-13T16:59:16.580Z"
   },
   {
    "duration": 45,
    "start_time": "2022-04-13T16:59:16.596Z"
   },
   {
    "duration": 20,
    "start_time": "2022-04-13T16:59:16.643Z"
   },
   {
    "duration": 35,
    "start_time": "2022-04-13T16:59:16.665Z"
   },
   {
    "duration": 19,
    "start_time": "2022-04-13T16:59:16.701Z"
   },
   {
    "duration": 9,
    "start_time": "2022-04-13T16:59:16.723Z"
   },
   {
    "duration": 17,
    "start_time": "2022-04-13T16:59:16.738Z"
   },
   {
    "duration": 36,
    "start_time": "2022-04-13T16:59:16.762Z"
   },
   {
    "duration": 6,
    "start_time": "2022-04-13T16:59:16.800Z"
   },
   {
    "duration": 6,
    "start_time": "2022-04-13T16:59:16.823Z"
   },
   {
    "duration": 58,
    "start_time": "2022-04-13T16:59:16.830Z"
   },
   {
    "duration": 40,
    "start_time": "2022-04-13T16:59:16.890Z"
   },
   {
    "duration": 115,
    "start_time": "2022-04-13T16:59:16.932Z"
   },
   {
    "duration": 136,
    "start_time": "2022-04-13T16:59:17.049Z"
   },
   {
    "duration": 110,
    "start_time": "2022-04-13T16:59:17.187Z"
   },
   {
    "duration": 140,
    "start_time": "2022-04-13T16:59:17.299Z"
   },
   {
    "duration": 148,
    "start_time": "2022-04-13T16:59:17.441Z"
   },
   {
    "duration": 140,
    "start_time": "2022-04-13T16:59:17.591Z"
   },
   {
    "duration": 9,
    "start_time": "2022-04-13T16:59:22.503Z"
   },
   {
    "duration": 37,
    "start_time": "2022-04-13T16:59:40.382Z"
   },
   {
    "duration": 16,
    "start_time": "2022-04-13T17:31:37.988Z"
   },
   {
    "duration": 13,
    "start_time": "2022-04-13T17:31:44.256Z"
   },
   {
    "duration": 41,
    "start_time": "2022-04-13T17:32:45.245Z"
   },
   {
    "duration": 9,
    "start_time": "2022-04-13T17:33:01.651Z"
   },
   {
    "duration": 52,
    "start_time": "2022-04-13T17:33:01.665Z"
   },
   {
    "duration": 29,
    "start_time": "2022-04-13T17:33:01.718Z"
   },
   {
    "duration": 45,
    "start_time": "2022-04-13T17:33:01.749Z"
   },
   {
    "duration": 10,
    "start_time": "2022-04-13T17:33:01.797Z"
   },
   {
    "duration": 34,
    "start_time": "2022-04-13T17:33:01.808Z"
   },
   {
    "duration": 32,
    "start_time": "2022-04-13T17:33:01.844Z"
   },
   {
    "duration": 8,
    "start_time": "2022-04-13T17:33:01.878Z"
   },
   {
    "duration": 21,
    "start_time": "2022-04-13T17:33:01.887Z"
   },
   {
    "duration": 45,
    "start_time": "2022-04-13T17:33:01.909Z"
   },
   {
    "duration": 6,
    "start_time": "2022-04-13T17:33:01.956Z"
   },
   {
    "duration": 16,
    "start_time": "2022-04-13T17:33:01.964Z"
   },
   {
    "duration": 48,
    "start_time": "2022-04-13T17:33:01.981Z"
   },
   {
    "duration": 46,
    "start_time": "2022-04-13T17:33:02.033Z"
   },
   {
    "duration": 140,
    "start_time": "2022-04-13T17:33:02.082Z"
   },
   {
    "duration": 147,
    "start_time": "2022-04-13T17:33:02.227Z"
   },
   {
    "duration": 130,
    "start_time": "2022-04-13T17:33:02.376Z"
   },
   {
    "duration": 175,
    "start_time": "2022-04-13T17:33:02.508Z"
   },
   {
    "duration": 160,
    "start_time": "2022-04-13T17:33:02.685Z"
   },
   {
    "duration": 157,
    "start_time": "2022-04-13T17:33:02.847Z"
   },
   {
    "duration": 9,
    "start_time": "2022-04-13T17:33:03.005Z"
   },
   {
    "duration": 52,
    "start_time": "2022-04-13T17:33:03.023Z"
   },
   {
    "duration": 11,
    "start_time": "2022-04-13T17:33:15.198Z"
   },
   {
    "duration": 464,
    "start_time": "2022-04-13T18:01:54.919Z"
   },
   {
    "duration": 387,
    "start_time": "2022-04-13T18:03:49.159Z"
   },
   {
    "duration": 87,
    "start_time": "2022-04-13T18:36:38.747Z"
   },
   {
    "duration": 38,
    "start_time": "2022-04-13T18:36:49.459Z"
   },
   {
    "duration": 384,
    "start_time": "2022-04-13T18:37:20.586Z"
   },
   {
    "duration": 395,
    "start_time": "2022-04-13T18:37:44.957Z"
   },
   {
    "duration": 314,
    "start_time": "2022-04-13T18:38:51.312Z"
   },
   {
    "duration": 319,
    "start_time": "2022-04-13T18:38:56.488Z"
   },
   {
    "duration": 388,
    "start_time": "2022-04-13T18:39:07.080Z"
   },
   {
    "duration": 330,
    "start_time": "2022-04-13T18:41:07.485Z"
   },
   {
    "duration": 457,
    "start_time": "2022-04-13T18:41:54.206Z"
   },
   {
    "duration": 293,
    "start_time": "2022-04-13T18:42:27.301Z"
   },
   {
    "duration": 352,
    "start_time": "2022-04-13T18:42:40.564Z"
   },
   {
    "duration": 300,
    "start_time": "2022-04-13T18:43:12.147Z"
   },
   {
    "duration": 345,
    "start_time": "2022-04-13T18:43:21.746Z"
   },
   {
    "duration": 291,
    "start_time": "2022-04-13T18:43:33.219Z"
   },
   {
    "duration": 299,
    "start_time": "2022-04-13T18:43:41.238Z"
   },
   {
    "duration": 275,
    "start_time": "2022-04-13T18:43:46.329Z"
   },
   {
    "duration": 302,
    "start_time": "2022-04-13T18:44:25.410Z"
   },
   {
    "duration": 8,
    "start_time": "2022-04-13T18:46:33.272Z"
   },
   {
    "duration": 4009,
    "start_time": "2022-04-13T18:47:25.862Z"
   },
   {
    "duration": 418,
    "start_time": "2022-04-13T18:48:17.804Z"
   },
   {
    "duration": 314,
    "start_time": "2022-04-13T18:48:25.718Z"
   },
   {
    "duration": 3210,
    "start_time": "2022-04-13T18:49:39.101Z"
   },
   {
    "duration": 6,
    "start_time": "2022-04-13T18:50:06.392Z"
   },
   {
    "duration": 12,
    "start_time": "2022-04-13T18:50:28.024Z"
   },
   {
    "duration": 9,
    "start_time": "2022-04-13T18:51:28.076Z"
   },
   {
    "duration": 2867,
    "start_time": "2022-04-13T18:54:50.157Z"
   },
   {
    "duration": 6,
    "start_time": "2022-04-13T18:55:46.660Z"
   },
   {
    "duration": 4,
    "start_time": "2022-04-13T18:56:08.786Z"
   },
   {
    "duration": 6,
    "start_time": "2022-04-13T18:56:39.618Z"
   },
   {
    "duration": 10,
    "start_time": "2022-04-13T18:58:54.384Z"
   },
   {
    "duration": 18,
    "start_time": "2022-04-13T18:59:12.632Z"
   },
   {
    "duration": 11,
    "start_time": "2022-04-13T19:00:08.143Z"
   },
   {
    "duration": 5,
    "start_time": "2022-04-13T19:00:10.828Z"
   },
   {
    "duration": 5,
    "start_time": "2022-04-13T19:00:52.487Z"
   },
   {
    "duration": 353,
    "start_time": "2022-04-13T19:02:50.483Z"
   },
   {
    "duration": 6,
    "start_time": "2022-04-13T19:02:57.227Z"
   },
   {
    "duration": 7,
    "start_time": "2022-04-13T19:03:01.060Z"
   },
   {
    "duration": 184,
    "start_time": "2022-04-13T19:05:48.778Z"
   },
   {
    "duration": 209,
    "start_time": "2022-04-13T19:05:53.994Z"
   },
   {
    "duration": 13,
    "start_time": "2022-04-13T19:06:06.863Z"
   },
   {
    "duration": 22,
    "start_time": "2022-04-13T19:06:12.327Z"
   },
   {
    "duration": 209,
    "start_time": "2022-04-13T19:06:33.462Z"
   },
   {
    "duration": 196,
    "start_time": "2022-04-13T19:06:38.833Z"
   },
   {
    "duration": 8,
    "start_time": "2022-04-13T19:06:49.935Z"
   },
   {
    "duration": 14,
    "start_time": "2022-04-13T19:07:00.316Z"
   },
   {
    "duration": 20,
    "start_time": "2022-04-13T19:07:05.638Z"
   },
   {
    "duration": 10,
    "start_time": "2022-04-13T19:07:11.733Z"
   },
   {
    "duration": 6,
    "start_time": "2022-04-13T19:07:20.357Z"
   },
   {
    "duration": 8,
    "start_time": "2022-04-13T19:08:03.830Z"
   },
   {
    "duration": 6,
    "start_time": "2022-04-13T19:09:19.299Z"
   },
   {
    "duration": 4,
    "start_time": "2022-04-13T19:11:26.546Z"
   },
   {
    "duration": 6,
    "start_time": "2022-04-13T19:11:38.384Z"
   },
   {
    "duration": 8,
    "start_time": "2022-04-13T19:11:54.568Z"
   },
   {
    "duration": 5,
    "start_time": "2022-04-13T19:11:57.928Z"
   },
   {
    "duration": 9,
    "start_time": "2022-04-13T19:12:22.032Z"
   },
   {
    "duration": 6,
    "start_time": "2022-04-13T19:12:23.407Z"
   },
   {
    "duration": 3247,
    "start_time": "2022-04-13T19:30:27.226Z"
   },
   {
    "duration": 3094,
    "start_time": "2022-04-13T19:30:58.977Z"
   },
   {
    "duration": 9,
    "start_time": "2022-04-13T19:31:17.014Z"
   },
   {
    "duration": 9,
    "start_time": "2022-04-13T19:31:52.573Z"
   },
   {
    "duration": 288,
    "start_time": "2022-04-13T19:32:22.351Z"
   },
   {
    "duration": 5,
    "start_time": "2022-04-13T19:32:26.840Z"
   },
   {
    "duration": 13,
    "start_time": "2022-04-13T19:32:30.520Z"
   },
   {
    "duration": 295,
    "start_time": "2022-04-13T19:33:30.558Z"
   },
   {
    "duration": 7,
    "start_time": "2022-04-13T19:34:02.961Z"
   },
   {
    "duration": 17,
    "start_time": "2022-04-13T19:34:10.967Z"
   },
   {
    "duration": 4111,
    "start_time": "2022-04-13T19:35:55.851Z"
   },
   {
    "duration": 3003,
    "start_time": "2022-04-13T19:36:05.461Z"
   },
   {
    "duration": 7,
    "start_time": "2022-04-13T19:36:33.275Z"
   },
   {
    "duration": 7,
    "start_time": "2022-04-13T19:36:46.986Z"
   },
   {
    "duration": 14,
    "start_time": "2022-04-13T19:36:55.070Z"
   },
   {
    "duration": 2337,
    "start_time": "2022-04-13T19:37:29.562Z"
   },
   {
    "duration": 3581,
    "start_time": "2022-04-13T19:41:55.691Z"
   },
   {
    "duration": 12,
    "start_time": "2022-04-13T19:42:06.364Z"
   },
   {
    "duration": 3481,
    "start_time": "2022-04-13T19:42:18.531Z"
   },
   {
    "duration": 3093,
    "start_time": "2022-04-13T19:42:37.220Z"
   },
   {
    "duration": 3122,
    "start_time": "2022-04-13T19:42:49.926Z"
   },
   {
    "duration": 13,
    "start_time": "2022-04-13T19:43:15.637Z"
   },
   {
    "duration": 9,
    "start_time": "2022-04-13T19:43:37.139Z"
   },
   {
    "duration": 12,
    "start_time": "2022-04-13T19:43:55.323Z"
   },
   {
    "duration": 4,
    "start_time": "2022-04-13T19:44:33.194Z"
   },
   {
    "duration": 3,
    "start_time": "2022-04-13T19:44:43.297Z"
   },
   {
    "duration": 26,
    "start_time": "2022-04-13T19:44:44.753Z"
   },
   {
    "duration": 3,
    "start_time": "2022-04-13T19:45:21.156Z"
   },
   {
    "duration": 28,
    "start_time": "2022-04-13T19:45:22.922Z"
   },
   {
    "duration": 12,
    "start_time": "2022-04-13T19:52:05.688Z"
   },
   {
    "duration": 10,
    "start_time": "2022-04-13T19:55:30.318Z"
   },
   {
    "duration": 5,
    "start_time": "2022-04-13T19:55:37.612Z"
   },
   {
    "duration": 297,
    "start_time": "2022-04-13T19:56:39.731Z"
   },
   {
    "duration": 4,
    "start_time": "2022-04-13T19:57:23.123Z"
   },
   {
    "duration": 16,
    "start_time": "2022-04-13T19:57:24.955Z"
   },
   {
    "duration": 135,
    "start_time": "2022-04-13T20:00:04.766Z"
   },
   {
    "duration": 143,
    "start_time": "2022-04-13T20:01:56.710Z"
   },
   {
    "duration": 143,
    "start_time": "2022-04-13T20:02:06.213Z"
   },
   {
    "duration": 165,
    "start_time": "2022-04-13T20:02:19.028Z"
   },
   {
    "duration": 154,
    "start_time": "2022-04-13T20:03:21.917Z"
   },
   {
    "duration": 137,
    "start_time": "2022-04-13T20:03:35.341Z"
   },
   {
    "duration": 15,
    "start_time": "2022-04-13T20:04:14.553Z"
   },
   {
    "duration": 72,
    "start_time": "2022-04-13T20:04:14.575Z"
   },
   {
    "duration": 20,
    "start_time": "2022-04-13T20:04:14.650Z"
   },
   {
    "duration": 144,
    "start_time": "2022-04-13T20:04:14.672Z"
   },
   {
    "duration": 17,
    "start_time": "2022-04-13T20:04:14.819Z"
   },
   {
    "duration": 15,
    "start_time": "2022-04-13T20:04:14.841Z"
   },
   {
    "duration": 15,
    "start_time": "2022-04-13T20:04:14.858Z"
   },
   {
    "duration": 5,
    "start_time": "2022-04-13T20:04:14.878Z"
   },
   {
    "duration": 44,
    "start_time": "2022-04-13T20:04:14.887Z"
   },
   {
    "duration": 62,
    "start_time": "2022-04-13T20:04:14.939Z"
   },
   {
    "duration": 5,
    "start_time": "2022-04-13T20:04:15.003Z"
   },
   {
    "duration": 34,
    "start_time": "2022-04-13T20:04:15.010Z"
   },
   {
    "duration": 34,
    "start_time": "2022-04-13T20:04:15.049Z"
   },
   {
    "duration": 32,
    "start_time": "2022-04-13T20:04:15.086Z"
   },
   {
    "duration": 144,
    "start_time": "2022-04-13T20:04:15.120Z"
   },
   {
    "duration": 141,
    "start_time": "2022-04-13T20:04:15.266Z"
   },
   {
    "duration": 129,
    "start_time": "2022-04-13T20:04:15.409Z"
   },
   {
    "duration": 146,
    "start_time": "2022-04-13T20:04:15.539Z"
   },
   {
    "duration": 128,
    "start_time": "2022-04-13T20:04:15.687Z"
   },
   {
    "duration": 159,
    "start_time": "2022-04-13T20:04:15.817Z"
   },
   {
    "duration": 162,
    "start_time": "2022-04-13T20:04:15.978Z"
   },
   {
    "duration": 159,
    "start_time": "2022-04-13T20:04:16.143Z"
   },
   {
    "duration": 33,
    "start_time": "2022-04-13T20:04:16.304Z"
   },
   {
    "duration": 51,
    "start_time": "2022-04-13T20:04:16.340Z"
   },
   {
    "duration": 17,
    "start_time": "2022-04-13T20:04:16.393Z"
   },
   {
    "duration": 571,
    "start_time": "2022-04-13T20:04:16.412Z"
   },
   {
    "duration": 380,
    "start_time": "2022-04-13T20:04:16.985Z"
   },
   {
    "duration": 4,
    "start_time": "2022-04-13T20:04:17.368Z"
   },
   {
    "duration": 21,
    "start_time": "2022-04-13T20:04:17.374Z"
   },
   {
    "duration": 365,
    "start_time": "2022-04-13T20:07:44.589Z"
   },
   {
    "duration": 282,
    "start_time": "2022-04-13T20:08:40.238Z"
   },
   {
    "duration": 332,
    "start_time": "2022-04-13T20:09:55.203Z"
   },
   {
    "duration": 10,
    "start_time": "2022-04-13T20:10:07.699Z"
   },
   {
    "duration": 380,
    "start_time": "2022-04-13T20:11:51.096Z"
   },
   {
    "duration": 297,
    "start_time": "2022-04-13T20:12:50.968Z"
   },
   {
    "duration": 9,
    "start_time": "2022-04-13T20:13:34.294Z"
   },
   {
    "duration": 299,
    "start_time": "2022-04-13T20:15:44.467Z"
   },
   {
    "duration": 10,
    "start_time": "2022-04-13T20:16:07.595Z"
   },
   {
    "duration": 22,
    "start_time": "2022-04-13T20:22:04.509Z"
   },
   {
    "duration": 313,
    "start_time": "2022-04-13T20:22:11.614Z"
   },
   {
    "duration": 8,
    "start_time": "2022-04-13T20:22:44.052Z"
   },
   {
    "duration": 325,
    "start_time": "2022-04-13T20:22:47.867Z"
   },
   {
    "duration": 11,
    "start_time": "2022-04-13T20:22:51.588Z"
   },
   {
    "duration": 310,
    "start_time": "2022-04-13T20:31:07.403Z"
   },
   {
    "duration": 10,
    "start_time": "2022-04-13T20:33:05.775Z"
   },
   {
    "duration": 1051,
    "start_time": "2022-04-13T20:37:01.004Z"
   },
   {
    "duration": 261,
    "start_time": "2022-04-13T21:27:25.330Z"
   },
   {
    "duration": 10,
    "start_time": "2022-04-13T21:29:30.769Z"
   },
   {
    "duration": 8,
    "start_time": "2022-04-13T21:29:38.602Z"
   },
   {
    "duration": 308,
    "start_time": "2022-04-13T21:29:41.487Z"
   },
   {
    "duration": 9,
    "start_time": "2022-04-13T21:29:44.528Z"
   },
   {
    "duration": 16,
    "start_time": "2022-04-13T22:04:48.772Z"
   },
   {
    "duration": 14,
    "start_time": "2022-04-13T22:08:48.247Z"
   },
   {
    "duration": 19,
    "start_time": "2022-04-13T22:09:54.583Z"
   },
   {
    "duration": 125,
    "start_time": "2022-04-14T13:35:07.055Z"
   },
   {
    "duration": 1782,
    "start_time": "2022-04-14T13:35:11.828Z"
   },
   {
    "duration": 96,
    "start_time": "2022-04-14T13:35:13.612Z"
   },
   {
    "duration": 21,
    "start_time": "2022-04-14T13:35:13.710Z"
   },
   {
    "duration": 84,
    "start_time": "2022-04-14T13:35:13.735Z"
   },
   {
    "duration": 19,
    "start_time": "2022-04-14T13:35:13.822Z"
   },
   {
    "duration": 40,
    "start_time": "2022-04-14T13:35:13.844Z"
   },
   {
    "duration": 16,
    "start_time": "2022-04-14T13:35:13.886Z"
   },
   {
    "duration": 7,
    "start_time": "2022-04-14T13:35:13.904Z"
   },
   {
    "duration": 15,
    "start_time": "2022-04-14T13:35:13.914Z"
   },
   {
    "duration": 91,
    "start_time": "2022-04-14T13:35:13.933Z"
   },
   {
    "duration": 6,
    "start_time": "2022-04-14T13:35:14.027Z"
   },
   {
    "duration": 16,
    "start_time": "2022-04-14T13:35:14.035Z"
   },
   {
    "duration": 67,
    "start_time": "2022-04-14T13:35:14.053Z"
   },
   {
    "duration": 72,
    "start_time": "2022-04-14T13:35:14.123Z"
   },
   {
    "duration": 271,
    "start_time": "2022-04-14T13:35:14.198Z"
   },
   {
    "duration": 312,
    "start_time": "2022-04-14T13:35:14.472Z"
   },
   {
    "duration": 174,
    "start_time": "2022-04-14T13:35:14.787Z"
   },
   {
    "duration": 189,
    "start_time": "2022-04-14T13:35:14.964Z"
   },
   {
    "duration": 168,
    "start_time": "2022-04-14T13:35:15.155Z"
   },
   {
    "duration": 195,
    "start_time": "2022-04-14T13:35:15.325Z"
   },
   {
    "duration": 217,
    "start_time": "2022-04-14T13:35:15.522Z"
   },
   {
    "duration": 205,
    "start_time": "2022-04-14T13:35:15.742Z"
   },
   {
    "duration": 12,
    "start_time": "2022-04-14T13:35:15.949Z"
   },
   {
    "duration": 68,
    "start_time": "2022-04-14T13:35:15.963Z"
   },
   {
    "duration": 17,
    "start_time": "2022-04-14T13:35:16.033Z"
   },
   {
    "duration": 621,
    "start_time": "2022-04-14T13:35:16.052Z"
   },
   {
    "duration": 617,
    "start_time": "2022-04-14T13:35:16.681Z"
   },
   {
    "duration": 6,
    "start_time": "2022-04-14T13:35:17.306Z"
   },
   {
    "duration": 21,
    "start_time": "2022-04-14T13:35:17.315Z"
   },
   {
    "duration": 636,
    "start_time": "2022-04-14T13:35:17.338Z"
   },
   {
    "duration": 18,
    "start_time": "2022-04-14T13:35:17.981Z"
   },
   {
    "duration": 458,
    "start_time": "2022-04-14T13:35:18.002Z"
   },
   {
    "duration": 26,
    "start_time": "2022-04-14T13:35:18.462Z"
   },
   {
    "duration": 550,
    "start_time": "2022-04-14T13:35:18.491Z"
   },
   {
    "duration": 14,
    "start_time": "2022-04-14T13:35:19.044Z"
   },
   {
    "duration": 446,
    "start_time": "2022-04-14T13:35:19.060Z"
   },
   {
    "duration": 16,
    "start_time": "2022-04-14T13:35:19.509Z"
   },
   {
    "duration": 433,
    "start_time": "2022-04-14T13:35:19.527Z"
   },
   {
    "duration": 24,
    "start_time": "2022-04-14T13:35:19.963Z"
   },
   {
    "duration": 1764,
    "start_time": "2022-04-14T13:35:19.990Z"
   },
   {
    "duration": 26,
    "start_time": "2022-04-14T13:35:21.757Z"
   },
   {
    "duration": 25,
    "start_time": "2022-04-14T13:35:21.786Z"
   },
   {
    "duration": 36,
    "start_time": "2022-04-14T13:35:21.814Z"
   },
   {
    "duration": 13,
    "start_time": "2022-04-14T13:35:28.165Z"
   },
   {
    "duration": 73,
    "start_time": "2022-04-14T13:36:28.123Z"
   },
   {
    "duration": 73,
    "start_time": "2022-04-14T20:08:32.795Z"
   },
   {
    "duration": 1815,
    "start_time": "2022-04-14T20:08:39.876Z"
   },
   {
    "duration": 52,
    "start_time": "2022-04-14T20:08:41.694Z"
   },
   {
    "duration": 20,
    "start_time": "2022-04-14T20:08:41.748Z"
   },
   {
    "duration": 49,
    "start_time": "2022-04-14T20:08:41.784Z"
   },
   {
    "duration": 17,
    "start_time": "2022-04-14T20:08:41.835Z"
   },
   {
    "duration": 42,
    "start_time": "2022-04-14T20:08:41.854Z"
   },
   {
    "duration": 16,
    "start_time": "2022-04-14T20:08:41.898Z"
   },
   {
    "duration": 6,
    "start_time": "2022-04-14T20:08:41.917Z"
   },
   {
    "duration": 15,
    "start_time": "2022-04-14T20:08:41.925Z"
   },
   {
    "duration": 45,
    "start_time": "2022-04-14T20:08:41.984Z"
   },
   {
    "duration": 7,
    "start_time": "2022-04-14T20:08:42.031Z"
   },
   {
    "duration": 8,
    "start_time": "2022-04-14T20:08:42.040Z"
   },
   {
    "duration": 74,
    "start_time": "2022-04-14T20:08:42.051Z"
   },
   {
    "duration": 67,
    "start_time": "2022-04-14T20:08:42.127Z"
   },
   {
    "duration": 175,
    "start_time": "2022-04-14T20:08:42.196Z"
   },
   {
    "duration": 201,
    "start_time": "2022-04-14T20:08:42.373Z"
   },
   {
    "duration": 165,
    "start_time": "2022-04-14T20:08:42.577Z"
   },
   {
    "duration": 195,
    "start_time": "2022-04-14T20:08:42.744Z"
   },
   {
    "duration": 164,
    "start_time": "2022-04-14T20:08:42.941Z"
   },
   {
    "duration": 187,
    "start_time": "2022-04-14T20:08:43.107Z"
   },
   {
    "duration": 221,
    "start_time": "2022-04-14T20:08:43.297Z"
   },
   {
    "duration": 198,
    "start_time": "2022-04-14T20:08:43.521Z"
   },
   {
    "duration": 12,
    "start_time": "2022-04-14T20:08:43.721Z"
   },
   {
    "duration": 71,
    "start_time": "2022-04-14T20:08:43.735Z"
   },
   {
    "duration": 15,
    "start_time": "2022-04-14T20:08:43.809Z"
   },
   {
    "duration": 550,
    "start_time": "2022-04-14T20:08:48.492Z"
   },
   {
    "duration": 635,
    "start_time": "2022-04-14T20:09:43.125Z"
   },
   {
    "duration": 5,
    "start_time": "2022-04-14T21:37:07.334Z"
   },
   {
    "duration": 42,
    "start_time": "2022-04-14T21:37:07.342Z"
   },
   {
    "duration": 17,
    "start_time": "2022-04-14T21:37:07.387Z"
   },
   {
    "duration": 77,
    "start_time": "2022-04-14T21:37:07.407Z"
   },
   {
    "duration": 17,
    "start_time": "2022-04-14T21:37:07.487Z"
   },
   {
    "duration": 16,
    "start_time": "2022-04-14T21:37:07.507Z"
   },
   {
    "duration": 17,
    "start_time": "2022-04-14T21:37:07.525Z"
   },
   {
    "duration": 43,
    "start_time": "2022-04-14T21:37:07.544Z"
   },
   {
    "duration": 12,
    "start_time": "2022-04-14T21:37:07.591Z"
   },
   {
    "duration": 85,
    "start_time": "2022-04-14T21:37:07.605Z"
   },
   {
    "duration": 7,
    "start_time": "2022-04-14T21:37:07.693Z"
   },
   {
    "duration": 7,
    "start_time": "2022-04-14T21:37:07.703Z"
   },
   {
    "duration": 79,
    "start_time": "2022-04-14T21:37:07.712Z"
   },
   {
    "duration": 49,
    "start_time": "2022-04-14T21:37:07.793Z"
   },
   {
    "duration": 190,
    "start_time": "2022-04-14T21:37:07.845Z"
   },
   {
    "duration": 194,
    "start_time": "2022-04-14T21:37:08.038Z"
   },
   {
    "duration": 171,
    "start_time": "2022-04-14T21:37:08.235Z"
   },
   {
    "duration": 185,
    "start_time": "2022-04-14T21:37:08.408Z"
   },
   {
    "duration": 163,
    "start_time": "2022-04-14T21:37:08.596Z"
   },
   {
    "duration": 184,
    "start_time": "2022-04-14T21:37:08.761Z"
   },
   {
    "duration": 211,
    "start_time": "2022-04-14T21:37:08.947Z"
   },
   {
    "duration": 291,
    "start_time": "2022-04-14T21:37:09.160Z"
   },
   {
    "duration": 11,
    "start_time": "2022-04-14T21:37:09.454Z"
   },
   {
    "duration": 48,
    "start_time": "2022-04-14T21:37:09.483Z"
   },
   {
    "duration": 16,
    "start_time": "2022-04-14T21:37:09.534Z"
   },
   {
    "duration": 569,
    "start_time": "2022-04-14T21:37:09.552Z"
   },
   {
    "duration": 479,
    "start_time": "2022-04-14T21:37:10.123Z"
   },
   {
    "duration": 5,
    "start_time": "2022-04-14T21:37:10.604Z"
   },
   {
    "duration": 17,
    "start_time": "2022-04-14T21:37:10.611Z"
   },
   {
    "duration": 405,
    "start_time": "2022-04-14T21:37:10.630Z"
   },
   {
    "duration": 14,
    "start_time": "2022-04-14T21:37:11.037Z"
   },
   {
    "duration": 471,
    "start_time": "2022-04-14T21:37:11.053Z"
   },
   {
    "duration": 13,
    "start_time": "2022-04-14T21:37:11.526Z"
   },
   {
    "duration": 396,
    "start_time": "2022-04-14T21:37:11.541Z"
   },
   {
    "duration": 14,
    "start_time": "2022-04-14T21:37:11.939Z"
   },
   {
    "duration": 387,
    "start_time": "2022-04-14T21:37:11.955Z"
   },
   {
    "duration": 16,
    "start_time": "2022-04-14T21:37:12.345Z"
   },
   {
    "duration": 379,
    "start_time": "2022-04-14T21:37:12.363Z"
   },
   {
    "duration": 16,
    "start_time": "2022-04-14T21:37:12.744Z"
   },
   {
    "duration": 1196,
    "start_time": "2022-04-14T21:37:12.762Z"
   },
   {
    "duration": 20,
    "start_time": "2022-04-14T21:37:13.960Z"
   },
   {
    "duration": 18,
    "start_time": "2022-04-14T21:37:13.982Z"
   },
   {
    "duration": 29,
    "start_time": "2022-04-14T21:37:14.002Z"
   },
   {
    "duration": 211,
    "start_time": "2022-04-15T07:27:30.015Z"
   },
   {
    "duration": 141,
    "start_time": "2022-04-15T07:30:27.455Z"
   },
   {
    "duration": 1629,
    "start_time": "2022-04-15T07:32:56.611Z"
   },
   {
    "duration": 44,
    "start_time": "2022-04-15T07:32:58.243Z"
   },
   {
    "duration": 19,
    "start_time": "2022-04-15T07:32:58.289Z"
   },
   {
    "duration": 54,
    "start_time": "2022-04-15T07:32:58.310Z"
   },
   {
    "duration": 13,
    "start_time": "2022-04-15T07:32:59.188Z"
   },
   {
    "duration": 13,
    "start_time": "2022-04-15T07:32:59.666Z"
   },
   {
    "duration": 12,
    "start_time": "2022-04-15T07:33:00.076Z"
   },
   {
    "duration": 8,
    "start_time": "2022-04-15T07:33:00.719Z"
   },
   {
    "duration": 11,
    "start_time": "2022-04-15T07:33:01.106Z"
   },
   {
    "duration": 40,
    "start_time": "2022-04-15T07:33:01.433Z"
   },
   {
    "duration": 6,
    "start_time": "2022-04-15T07:33:02.147Z"
   },
   {
    "duration": 9,
    "start_time": "2022-04-15T07:33:02.818Z"
   },
   {
    "duration": 40,
    "start_time": "2022-04-15T07:33:03.108Z"
   },
   {
    "duration": 35,
    "start_time": "2022-04-15T07:33:03.858Z"
   },
   {
    "duration": 111,
    "start_time": "2022-04-15T07:33:03.976Z"
   },
   {
    "duration": 208,
    "start_time": "2022-04-15T07:33:04.239Z"
   },
   {
    "duration": 125,
    "start_time": "2022-04-15T07:33:04.449Z"
   },
   {
    "duration": 137,
    "start_time": "2022-04-15T07:33:04.590Z"
   },
   {
    "duration": 152,
    "start_time": "2022-04-15T07:33:04.806Z"
   },
   {
    "duration": 143,
    "start_time": "2022-04-15T07:33:05.007Z"
   },
   {
    "duration": 153,
    "start_time": "2022-04-15T07:33:05.205Z"
   },
   {
    "duration": 135,
    "start_time": "2022-04-15T07:33:05.729Z"
   },
   {
    "duration": 14,
    "start_time": "2022-04-15T07:33:06.042Z"
   },
   {
    "duration": 56,
    "start_time": "2022-04-15T07:33:06.136Z"
   },
   {
    "duration": 18,
    "start_time": "2022-04-15T07:33:06.394Z"
   },
   {
    "duration": 529,
    "start_time": "2022-04-15T07:33:06.638Z"
   },
   {
    "duration": 420,
    "start_time": "2022-04-15T07:33:07.169Z"
   },
   {
    "duration": 6,
    "start_time": "2022-04-15T07:33:07.591Z"
   },
   {
    "duration": 28,
    "start_time": "2022-04-15T07:33:07.599Z"
   },
   {
    "duration": 389,
    "start_time": "2022-04-15T07:33:07.629Z"
   },
   {
    "duration": 16,
    "start_time": "2022-04-15T07:33:08.020Z"
   },
   {
    "duration": 346,
    "start_time": "2022-04-15T07:33:08.039Z"
   },
   {
    "duration": 34,
    "start_time": "2022-04-15T07:33:08.388Z"
   },
   {
    "duration": 356,
    "start_time": "2022-04-15T07:33:08.424Z"
   },
   {
    "duration": 14,
    "start_time": "2022-04-15T07:33:08.783Z"
   },
   {
    "duration": 410,
    "start_time": "2022-04-15T07:33:08.824Z"
   },
   {
    "duration": 15,
    "start_time": "2022-04-15T07:33:09.236Z"
   },
   {
    "duration": 359,
    "start_time": "2022-04-15T07:33:09.254Z"
   },
   {
    "duration": 13,
    "start_time": "2022-04-15T07:33:09.640Z"
   },
   {
    "duration": 1308,
    "start_time": "2022-04-15T07:33:09.655Z"
   },
   {
    "duration": 23,
    "start_time": "2022-04-15T07:33:11.199Z"
   },
   {
    "duration": 21,
    "start_time": "2022-04-15T07:33:12.074Z"
   },
   {
    "duration": 29,
    "start_time": "2022-04-15T07:33:12.249Z"
   },
   {
    "duration": 200,
    "start_time": "2022-04-15T07:53:57.021Z"
   },
   {
    "duration": 204,
    "start_time": "2022-04-15T07:56:30.183Z"
   },
   {
    "duration": 177,
    "start_time": "2022-04-15T08:01:54.206Z"
   },
   {
    "duration": 143,
    "start_time": "2022-04-16T11:08:04.828Z"
   }
  ],
  "kernelspec": {
   "display_name": "Python 3",
   "language": "python",
   "name": "python3"
  },
  "language_info": {
   "codemirror_mode": {
    "name": "ipython",
    "version": 3
   },
   "file_extension": ".py",
   "mimetype": "text/x-python",
   "name": "python",
   "nbconvert_exporter": "python",
   "pygments_lexer": "ipython3",
   "version": "3.8.8"
  },
  "toc": {
   "base_numbering": 1,
   "nav_menu": {},
   "number_sections": true,
   "sideBar": true,
   "skip_h1_title": true,
   "title_cell": "Table of Contents",
   "title_sidebar": "Contents",
   "toc_cell": false,
   "toc_position": {},
   "toc_section_display": true,
   "toc_window_display": false
  }
 },
 "nbformat": 4,
 "nbformat_minor": 2
}
